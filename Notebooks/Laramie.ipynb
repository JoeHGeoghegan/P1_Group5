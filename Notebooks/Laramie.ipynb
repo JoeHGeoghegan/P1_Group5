{
 "cells": [
  {
   "cell_type": "code",
   "execution_count": 4,
   "metadata": {},
   "outputs": [
    {
     "data": {
      "text/plain": [
       "True"
      ]
     },
     "execution_count": 4,
     "metadata": {},
     "output_type": "execute_result"
    }
   ],
   "source": [
    "# Imports for alpaca and .env \n",
    "from dotenv import load_dotenv\n",
    "from alpaca_trade_api.rest import REST, TimeFrame\n",
    "import os\n",
    "load_dotenv()"
   ]
  },
  {
   "cell_type": "code",
   "execution_count": 5,
   "metadata": {},
   "outputs": [],
   "source": [
    "# Set Alpca API key and secret key, then insantiate an API object\n",
    "alpaca_api_key = os.getenv(\"ALPACA_API_KEY\")\n",
    "alpaca_secret_key = os.getenv(\"ALPACA_SECURITY_KEY\")\n",
    "\n",
    "tradeapi = REST(alpaca_api_key, alpaca_secret_key, api_version='v2')\n"
   ]
  },
  {
   "cell_type": "code",
   "execution_count": 22,
   "metadata": {},
   "outputs": [
    {
     "data": {
      "text/html": [
       "<div>\n",
       "<style scoped>\n",
       "    .dataframe tbody tr th:only-of-type {\n",
       "        vertical-align: middle;\n",
       "    }\n",
       "\n",
       "    .dataframe tbody tr th {\n",
       "        vertical-align: top;\n",
       "    }\n",
       "\n",
       "    .dataframe thead th {\n",
       "        text-align: right;\n",
       "    }\n",
       "</style>\n",
       "<table border=\"1\" class=\"dataframe\">\n",
       "  <thead>\n",
       "    <tr style=\"text-align: right;\">\n",
       "      <th></th>\n",
       "      <th>timestamp</th>\n",
       "      <th>open</th>\n",
       "      <th>high</th>\n",
       "      <th>low</th>\n",
       "      <th>close</th>\n",
       "      <th>volume</th>\n",
       "      <th>trade_count</th>\n",
       "      <th>vwap</th>\n",
       "    </tr>\n",
       "  </thead>\n",
       "  <tbody>\n",
       "    <tr>\n",
       "      <th>0</th>\n",
       "      <td>2015-12-01 05:00:00+00:00</td>\n",
       "      <td>209.42</td>\n",
       "      <td>210.8200</td>\n",
       "      <td>209.1100</td>\n",
       "      <td>210.68</td>\n",
       "      <td>97858418</td>\n",
       "      <td>337780</td>\n",
       "      <td>209.921410</td>\n",
       "    </tr>\n",
       "    <tr>\n",
       "      <th>1</th>\n",
       "      <td>2015-12-02 05:00:00+00:00</td>\n",
       "      <td>210.60</td>\n",
       "      <td>211.0000</td>\n",
       "      <td>208.2300</td>\n",
       "      <td>208.54</td>\n",
       "      <td>108069059</td>\n",
       "      <td>367013</td>\n",
       "      <td>209.563055</td>\n",
       "    </tr>\n",
       "    <tr>\n",
       "      <th>2</th>\n",
       "      <td>2015-12-03 05:00:00+00:00</td>\n",
       "      <td>208.90</td>\n",
       "      <td>209.1500</td>\n",
       "      <td>204.7511</td>\n",
       "      <td>205.58</td>\n",
       "      <td>166224154</td>\n",
       "      <td>546768</td>\n",
       "      <td>206.878936</td>\n",
       "    </tr>\n",
       "    <tr>\n",
       "      <th>3</th>\n",
       "      <td>2015-12-04 05:00:00+00:00</td>\n",
       "      <td>206.10</td>\n",
       "      <td>209.9700</td>\n",
       "      <td>205.9300</td>\n",
       "      <td>209.66</td>\n",
       "      <td>192878747</td>\n",
       "      <td>556731</td>\n",
       "      <td>208.178631</td>\n",
       "    </tr>\n",
       "    <tr>\n",
       "      <th>4</th>\n",
       "      <td>2015-12-07 05:00:00+00:00</td>\n",
       "      <td>209.20</td>\n",
       "      <td>209.7295</td>\n",
       "      <td>207.2000</td>\n",
       "      <td>208.27</td>\n",
       "      <td>102027111</td>\n",
       "      <td>374705</td>\n",
       "      <td>208.276128</td>\n",
       "    </tr>\n",
       "  </tbody>\n",
       "</table>\n",
       "</div>"
      ],
      "text/plain": [
       "                  timestamp    open      high       low   close     volume  \\\n",
       "0 2015-12-01 05:00:00+00:00  209.42  210.8200  209.1100  210.68   97858418   \n",
       "1 2015-12-02 05:00:00+00:00  210.60  211.0000  208.2300  208.54  108069059   \n",
       "2 2015-12-03 05:00:00+00:00  208.90  209.1500  204.7511  205.58  166224154   \n",
       "3 2015-12-04 05:00:00+00:00  206.10  209.9700  205.9300  209.66  192878747   \n",
       "4 2015-12-07 05:00:00+00:00  209.20  209.7295  207.2000  208.27  102027111   \n",
       "\n",
       "   trade_count        vwap  \n",
       "0       337780  209.921410  \n",
       "1       367013  209.563055  \n",
       "2       546768  206.878936  \n",
       "3       556731  208.178631  \n",
       "4       374705  208.276128  "
      ]
     },
     "execution_count": 22,
     "metadata": {},
     "output_type": "execute_result"
    }
   ],
   "source": [
    "from datetime import date\n",
    "import re\n",
    "# Define functions I use to get Alpaca Trade API data\n",
    "def calc_start_date(years_ago):\n",
    "    \"\"\"Calculates the date 'x' years ago\"\"\"\n",
    "    to_day=str(date.today())\n",
    "    match = re.match(r'(\\d\\d\\d\\d)-(\\d\\d)-(\\d\\d)', to_day)\n",
    "    _yrsago= int(match.group(1))-years_ago\n",
    "    _yrsago = str(_yrsago)+'-'+match.group(2)+'-'+match.group(3)\n",
    "    return _yrsago\n",
    "\n",
    "def get_company(ticker, start, end, tradeapi):\n",
    "    \"\"\"Executes the get_bars method from Alpaca Trade API\"\"\"\n",
    "    return tradeapi.get_bars(\n",
    "        ticker,\n",
    "        TimeFrame.Day,\n",
    "        start,\n",
    "        end\n",
    "    ).df\n",
    "\n",
    "# Get Data from API:\n",
    "spy_df = get_company(\"SPY\", calc_start_date(20), \"2022-03-30\", tradeapi)\n",
    "spy_df.reset_index(inplace=True)\n",
    "spy_df.to_csv(\"../Data/rawdata/SPY_data.csv\")\n",
    "spy_df.head()"
   ]
  },
  {
   "cell_type": "code",
   "execution_count": 64,
   "metadata": {},
   "outputs": [
    {
     "data": {
      "text/plain": [
       "<AxesSubplot:>"
      ]
     },
     "execution_count": 64,
     "metadata": {},
     "output_type": "execute_result"
    },
    {
     "data": {
      "image/png": "[encoded data removed]",
      "text/plain": [
       "<Figure size 432x288 with 1 Axes>"
      ]
     },
     "metadata": {
      "needs_background": "light"
     },
     "output_type": "display_data"
    }
   ],
   "source": [
    "import pandas as pd\n",
    "import numpy as np\n",
    "# make a df with the values needed for the ATR calculation:\n",
    "range_df = { \n",
    "               \"date\": spy_df['timestamp'] , \n",
    "               \"hi-lo\": abs( spy_df['high']-spy_df['low'] ), \n",
    "                \"hi-cl\": abs( spy_df['high'] - spy_df['close'].shift() ),\n",
    "                \"lo-cl\": abs( spy_df['low'] - spy_df['close'].shift() )\n",
    "}\n",
    "# make a df out of our rage_df dictionary\n",
    "range_df = pd.DataFrame(range_df)\n",
    "# NaN exist because it subtracts the prior day's close, which doesn't exist in row one. Not important.\n",
    "range_df.dropna(inplace=True)\n",
    "range_df.set_index('date', inplace= True)\n",
    "\n",
    "# Make a df of the maximum of ranges\n",
    "true_range = pd.DataFrame( np.max(range_df, axis = 1) )\n",
    "true_range.rename(columns= {0:'TR'}, inplace=True)\n",
    "true_range.reset_index(inplace=True)\n",
    "\n",
    "#plot a 14 day moving average of True Range (ATR)\n",
    "true_range['TR'].rolling(14).mean().plot()\n",
    "\n",
    "\n"
   ]
  },
  {
   "cell_type": "code",
   "execution_count": 66,
   "metadata": {},
   "outputs": [],
   "source": [
    "true_range.head()\n",
    "true_range.to_csv(\"../Data/rawdata/TR_data.csv\")"
   ]
  },
  {
   "cell_type": "code",
   "execution_count": null,
   "metadata": {},
   "outputs": [],
   "source": []
  }
 ],
 "metadata": {
  "interpreter": {
   "hash": "2ac716999a0ac1ce1046a4c8b1ca60c217dfc12979d97d10b32e5e11da063565"
  },
  "kernelspec": {
   "display_name": "Python 3.10.0 64-bit",
   "language": "python",
   "name": "python3"
  },
  "language_info": {
   "codemirror_mode": {
    "name": "ipython",
    "version": 3
   },
   "file_extension": ".py",
   "mimetype": "text/x-python",
   "name": "python",
   "nbconvert_exporter": "python",
   "pygments_lexer": "ipython3",
   "version": "3.10.0"
  },
  "orig_nbformat": 4
 },
 "nbformat": 4,
 "nbformat_minor": 2
}
