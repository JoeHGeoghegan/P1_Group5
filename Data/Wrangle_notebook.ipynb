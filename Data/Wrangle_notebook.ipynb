{
 "cells": [
  {
   "cell_type": "markdown",
   "metadata": {},
   "source": [
    "## Notebook to program the data wrangling functions"
   ]
  },
  {
   "cell_type": "code",
   "execution_count": 2,
   "metadata": {},
   "outputs": [],
   "source": [
    "# Imports\n",
    "import pandas as pd\n",
    "import os"
   ]
  },
  {
   "cell_type": "code",
   "execution_count": null,
   "metadata": {},
   "outputs": [],
   "source": [
    "# Test Functiomn\n",
    "def HelloWorld():\n",
    "    return \"Hello World\""
   ]
  },
  {
   "cell_type": "code",
   "execution_count": null,
   "metadata": {},
   "outputs": [],
   "source": [
    "# Read Raw\n",
    "def create_data():\n",
    "    # Reading all csv data from PopStocks (containing 5 popular stocks) resource folder\n",
    "    DF_DataImport = []\n",
    "    filepath_str = \"./rawdata/\"\n",
    "    indexCol = \"Date\"\n",
    "\n",
    "    for filename in os.listdir(filepath_str): # Loops over ever file name in the folder\n",
    "        df = pd.read_csv( # Uses Pandas csv reader\n",
    "            f\"{filepath_str}/{filename}\", # Recreates the  direct path to the csv file\n",
    "            \n",
    "            # Parse and set the date index\n",
    "            parse_dates=True,\n",
    "            infer_datetime_format=True,\n",
    "            index_col=indexCol\n",
    "            )\n",
    "        DF_DataImport.append(df) # Appends the dataframe to the array of dataframes"
   ]
  }
 ],
 "metadata": {
  "interpreter": {
   "hash": "444e24575e928cadbf056ff0aba3d3823bfa6d6b4aee0532e7b07e9907da7cfc"
  },
  "kernelspec": {
   "display_name": "Python 3.7.11 ('dev')",
   "language": "python",
   "name": "python3"
  },
  "language_info": {
   "codemirror_mode": {
    "name": "ipython",
    "version": 3
   },
   "file_extension": ".py",
   "mimetype": "text/x-python",
   "name": "python",
   "nbconvert_exporter": "python",
   "pygments_lexer": "ipython3",
   "version": "3.7.11"
  },
  "orig_nbformat": 4
 },
 "nbformat": 4,
 "nbformat_minor": 2
}
