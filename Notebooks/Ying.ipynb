{
 "cells": [
  {
   "cell_type": "code",
   "execution_count": 1,
   "metadata": {},
   "outputs": [
    {
     "data": {
      "text/plain": [
       "'\\nHistorical Backtesting\\nCalculate SPY price change after certain trading days when the VIX price above a specific threshold\\n'"
      ]
     },
     "execution_count": 1,
     "metadata": {},
     "output_type": "execute_result"
    }
   ],
   "source": [
    "\"\"\"\n",
    "Historical Backtesting\n",
    "Calculate SPY price change (using the mean value of the price change) after certain trading days when the VIX price above a specific threshold\n",
    "\"\"\""
   ]
  },
  {
   "cell_type": "code",
   "execution_count": 72,
   "metadata": {},
   "outputs": [],
   "source": [
    "# import libraries\n",
    "import pandas as pd\n",
    "import Data.DataWrangle as DW\n",
    "# import datetime\n",
    "import hvplot.pandas\n"
   ]
  },
  {
   "cell_type": "code",
   "execution_count": 73,
   "metadata": {},
   "outputs": [
    {
     "data": {
      "text/html": [
       "<div>\n",
       "<style scoped>\n",
       "    .dataframe tbody tr th:only-of-type {\n",
       "        vertical-align: middle;\n",
       "    }\n",
       "\n",
       "    .dataframe tbody tr th {\n",
       "        vertical-align: top;\n",
       "    }\n",
       "\n",
       "    .dataframe thead th {\n",
       "        text-align: right;\n",
       "    }\n",
       "</style>\n",
       "<table border=\"1\" class=\"dataframe\">\n",
       "  <thead>\n",
       "    <tr style=\"text-align: right;\">\n",
       "      <th></th>\n",
       "      <th>close_SPY</th>\n",
       "      <th>close_TR</th>\n",
       "      <th>close_VIX</th>\n",
       "    </tr>\n",
       "    <tr>\n",
       "      <th>timestamp</th>\n",
       "      <th></th>\n",
       "      <th></th>\n",
       "      <th></th>\n",
       "    </tr>\n",
       "  </thead>\n",
       "  <tbody>\n",
       "    <tr>\n",
       "      <th>2015-12-02</th>\n",
       "      <td>208.54</td>\n",
       "      <td>2.7700</td>\n",
       "      <td>15.91</td>\n",
       "    </tr>\n",
       "    <tr>\n",
       "      <th>2015-12-03</th>\n",
       "      <td>205.58</td>\n",
       "      <td>4.3989</td>\n",
       "      <td>18.11</td>\n",
       "    </tr>\n",
       "    <tr>\n",
       "      <th>2015-12-04</th>\n",
       "      <td>209.66</td>\n",
       "      <td>4.3900</td>\n",
       "      <td>14.81</td>\n",
       "    </tr>\n",
       "    <tr>\n",
       "      <th>2015-12-07</th>\n",
       "      <td>208.27</td>\n",
       "      <td>2.5295</td>\n",
       "      <td>15.84</td>\n",
       "    </tr>\n",
       "    <tr>\n",
       "      <th>2015-12-08</th>\n",
       "      <td>206.99</td>\n",
       "      <td>2.5090</td>\n",
       "      <td>17.60</td>\n",
       "    </tr>\n",
       "  </tbody>\n",
       "</table>\n",
       "</div>"
      ],
      "text/plain": [
       "            close_SPY  close_TR  close_VIX\n",
       "timestamp                                 \n",
       "2015-12-02     208.54    2.7700      15.91\n",
       "2015-12-03     205.58    4.3989      18.11\n",
       "2015-12-04     209.66    4.3900      14.81\n",
       "2015-12-07     208.27    2.5295      15.84\n",
       "2015-12-08     206.99    2.5090      17.60"
      ]
     },
     "execution_count": 73,
     "metadata": {},
     "output_type": "execute_result"
    }
   ],
   "source": [
    "# import data with shared date\n",
    "no_NAN = DW.shared_date_data()\n",
    "no_NAN.head()"
   ]
  },
  {
   "cell_type": "code",
   "execution_count": 74,
   "metadata": {},
   "outputs": [
    {
     "name": "stdout",
     "output_type": "stream",
     "text": [
      "count    1593.000000\n",
      "mean       18.273503\n",
      "std         8.207784\n",
      "min         9.140000\n",
      "25%        12.830000\n",
      "50%        16.160000\n",
      "75%        21.380000\n",
      "max        82.690000\n",
      "Name: close_VIX, dtype: float64\n",
      "count    1593.000000\n",
      "mean      298.999058\n",
      "std        76.119125\n",
      "min       183.030000\n",
      "25%       243.010000\n",
      "50%       280.530000\n",
      "75%       335.840000\n",
      "max       477.710000\n",
      "Name: close_SPY, dtype: float64\n"
     ]
    }
   ],
   "source": [
    "# select VIX and SPY data \n",
    "working_data = DW.slice_up(['close_SPY', 'close_VIX'])\n",
    "\n",
    "# summary statistics\n",
    "vix_tbl = working_data['close_VIX'].describe()\n",
    "spy_tbl = working_data['close_SPY'].describe()\n",
    "print(vix_tbl)\n",
    "print(spy_tbl)"
   ]
  },
  {
   "cell_type": "code",
   "execution_count": 75,
   "metadata": {},
   "outputs": [
    {
     "data": {},
     "metadata": {},
     "output_type": "display_data"
    },
    {
     "data": {
      "application/vnd.holoviews_exec.v0+json": "",
      "text/html": [
       "<div id='1257'>\n",
       "\n",
       "\n",
       "\n",
       "\n",
       "\n",
       "  <div class=\"bk-root\" id=\"6c18f1df-79b4-46dd-9791-f900975ba660\" data-root-id=\"1257\"></div>\n",
       "</div>\n",
       "<script type=\"application/javascript\">(function(root) {\n",
       "  function embed_document(root) {\n",
       "    var docs_json = {\"cd16581d-287c-4181-a4ce-823b4713ed6e\":{\"defs\":[{\"extends\":null,\"module\":null,\"name\":\"ReactiveHTML1\",\"overrides\":[],\"properties\":[]},{\"extends\":null,\"module\":null,\"name\":\"FlexBox1\",\"overrides\":[],\"properties\":[{\"default\":\"flex-start\",\"kind\":null,\"name\":\"align_content\"},{\"default\":\"flex-start\",\"kind\":null,\"name\":\"align_items\"},{\"default\":\"row\",\"kind\":null,\"name\":\"flex_direction\"},{\"default\":\"wrap\",\"kind\":null,\"name\":\"flex_wrap\"},{\"default\":\"flex-start\",\"kind\":null,\"name\":\"justify_content\"}]},{\"extends\":null,\"module\":null,\"name\":\"TemplateActions1\",\"overrides\":[],\"properties\":[{\"default\":0,\"kind\":null,\"name\":\"open_modal\"},{\"default\":0,\"kind\":null,\"name\":\"close_modal\"}]},{\"extends\":null,\"module\":null,\"name\":\"MaterialTemplateActions1\",\"overrides\":[],\"properties\":[{\"default\":0,\"kind\":null,\"name\":\"open_modal\"},{\"default\":0,\"kind\":null,\"name\":\"close_modal\"}]}],\"roots\":{\"references\":[{\"attributes\":{},\"id\":\"1281\",\"type\":\"WheelZoomTool\"},{\"attributes\":{\"coordinates\":null,\"group\":null,\"text\":\"VIX and SPY close price from 2015-12-02 to 2022-3-29\",\"text_color\":\"black\",\"text_font_size\":\"12pt\"},\"id\":\"1264\",\"type\":\"Title\"},{\"attributes\":{\"source\":{\"id\":\"1299\"}},\"id\":\"1306\",\"type\":\"CDSView\"},{\"attributes\":{},\"id\":\"1295\",\"type\":\"AllLabels\"},{\"attributes\":{\"label\":{\"value\":\"VIX\"},\"renderers\":[{\"id\":\"1305\"}]},\"id\":\"1318\",\"type\":\"LegendItem\"},{\"attributes\":{\"coordinates\":null,\"data_source\":{\"id\":\"1299\"},\"glyph\":{\"id\":\"1302\"},\"group\":null,\"hover_glyph\":null,\"muted_glyph\":{\"id\":\"1304\"},\"nonselection_glyph\":{\"id\":\"1303\"},\"selection_glyph\":{\"id\":\"1319\"},\"view\":{\"id\":\"1306\"}},\"id\":\"1305\",\"type\":\"GlyphRenderer\"},{\"attributes\":{\"axis\":{\"id\":\"1272\"},\"coordinates\":null,\"grid_line_color\":null,\"group\":null,\"ticker\":null},\"id\":\"1274\",\"type\":\"Grid\"},{\"attributes\":{},\"id\":\"1298\",\"type\":\"AllLabels\"},{\"attributes\":{\"axis_label\":\"date\",\"coordinates\":null,\"formatter\":{\"id\":\"1294\"},\"group\":null,\"major_label_policy\":{\"id\":\"1295\"},\"ticker\":{\"id\":\"1273\"}},\"id\":\"1272\",\"type\":\"CategoricalAxis\"},{\"attributes\":{\"click_policy\":\"mute\",\"coordinates\":null,\"group\":null,\"items\":[{\"id\":\"1318\"},{\"id\":\"1340\"}]},\"id\":\"1317\",\"type\":\"Legend\"},{\"attributes\":{\"line_alpha\":0.1,\"line_color\":\"#30a2da\",\"line_width\":2,\"x\":{\"field\":\"timestamp\"},\"y\":{\"field\":\"close_VIX\"}},\"id\":\"1303\",\"type\":\"Line\"},{\"attributes\":{\"margin\":[5,5,5,5],\"name\":\"HSpacer02193\",\"sizing_mode\":\"stretch_width\"},\"id\":\"1258\",\"type\":\"Spacer\"},{\"attributes\":{},\"id\":\"1283\",\"type\":\"ResetTool\"},{\"attributes\":{\"tools\":[{\"id\":\"1261\"},{\"id\":\"1262\"},{\"id\":\"1279\"},{\"id\":\"1280\"},{\"id\":\"1281\"},{\"id\":\"1282\"},{\"id\":\"1283\"}]},\"id\":\"1285\",\"type\":\"Toolbar\"},{\"attributes\":{\"line_color\":\"#30a2da\",\"line_width\":2,\"x\":{\"field\":\"timestamp\"},\"y\":{\"field\":\"close_VIX\"}},\"id\":\"1319\",\"type\":\"Line\"},{\"attributes\":{},\"id\":\"1268\",\"type\":\"CategoricalScale\"},{\"attributes\":{},\"id\":\"1294\",\"type\":\"CategoricalTickFormatter\"},{\"attributes\":{\"callback\":null,\"renderers\":[{\"id\":\"1305\"}],\"tags\":[\"hv_created\"],\"tooltips\":[[\"timestamp\",\"@{timestamp}\"],[\"close_VIX\",\"@{close_VIX}\"]]},\"id\":\"1261\",\"type\":\"HoverTool\"},{\"attributes\":{},\"id\":\"1337\",\"type\":\"UnionRenderers\"},{\"attributes\":{\"coordinates\":null,\"data_source\":{\"id\":\"1320\"},\"glyph\":{\"id\":\"1323\"},\"group\":null,\"hover_glyph\":null,\"muted_glyph\":{\"id\":\"1325\"},\"nonselection_glyph\":{\"id\":\"1324\"},\"selection_glyph\":{\"id\":\"1341\"},\"view\":{\"id\":\"1327\"}},\"id\":\"1326\",\"type\":\"GlyphRenderer\"},{\"attributes\":{},\"id\":\"1270\",\"type\":\"LinearScale\"},{\"attributes\":{\"data\":{\"close_SPY\":{\"__ndarray__\":\"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\",\"dtype\":\"float64\",\"order\":\"little\",\"shape\":[1593]},\"timestamp\":[\"2015-12-01\",\"2015-12-02\",\"2015-12-03\",\"2015-12-04\",\"2015-12-07\",\"2015-12-08\",\"2015-12-09\",\"2015-12-10\",\"2015-12-11\",\"2015-12-14\",\"2015-12-15\",\"2015-12-16\",\"2015-12-17\",\"2015-12-18\",\"2015-12-21\",\"2015-12-22\",\"2015-12-23\",\"2015-12-24\",\"2015-12-28\",\"2015-12-29\",\"2015-12-30\",\"2015-12-31\",\"2016-01-04\",\"2016-01-05\",\"2016-01-06\",\"2016-01-07\",\"2016-01-08\",\"2016-01-11\",\"2016-01-12\",\"2016-01-13\",\"2016-01-14\",\"2016-01-15\",\"2016-01-19\",\"2016-01-20\",\"2016-01-21\",\"2016-01-22\",\"2016-01-25\",\"2016-01-26\",\"2016-01-27\",\"2016-01-28\",\"2016-01-29\",\"2016-02-01\",\"2016-02-02\",\"2016-02-03\",\"2016-02-04\",\"2016-02-05\",\"2016-02-08\",\"2016-02-09\",\"2016-02-10\",\"2016-02-11\",\"2016-02-12\",\"2016-02-16\",\"2016-02-17\",\"2016-02-18\",\"2016-02-19\",\"2016-02-22\",\"2016-02-23\",\"2016-02-24\",\"2016-02-25\",\"2016-02-26\",\"2016-02-29\",\"2016-03-01\",\"2016-03-02\",\"2016-03-03\",\"2016-03-04\",\"2016-03-07\",\"2016-03-08\",\"2016-03-09\",\"2016-03-10\",\"2016-03-11\",\"2016-03-14\",\"2016-03-15\",\"2016-03-16\",\"2016-03-17\",\"2016-03-18\",\"2016-03-21\",\"2016-03-22\",\"2016-03-23\",\"2016-03-24\",\"2016-03-28\",\"2016-03-29\",\"2016-03-30\",\"2016-03-31\",\"2016-04-01\",\"2016-04-04\",\"2016-04-05\",\"2016-04-06\",\"2016-04-07\",\"2016-04-08\",\"2016-04-11\",\"2016-04-12\",\"2016-04-13\",\"2016-04-14\",\"2016-04-15\",\"2016-04-18\",\"2016-04-19\",\"2016-04-20\",\"2016-04-21\",\"2016-04-22\",\"2016-04-25\",\"2016-04-26\",\"2016-04-27\",\"2016-04-28\",\"2016-04-29\",\"2016-05-02\",\"2016-05-03\",\"2016-05-04\",\"2016-05-05\",\"2016-05-06\",\"2016-05-09\",\"2016-05-10\",\"2016-05-11\",\"2016-05-12\",\"2016-05-13\",\"2016-05-16\",\"2016-05-17\",\"2016-05-18\",\"2016-05-19\",\"2016-05-20\",\"2016-05-23\",\"2016-05-24\",\"2016-05-25\",\"2016-05-26\",\"2016-05-27\",\"2016-05-31\",\"2016-06-01\",\"2016-06-02\",\"2016-06-03\",\"2016-06-06\",\"2016-06-07\",\"2016-06-08\",\"2016-06-09\",\"2016-06-10\",\"2016-06-13\",\"2016-06-14\",\"2016-06-15\",\"2016-06-16\",\"2016-06-17\",\"2016-06-20\",\"2016-06-21\",\"2016-06-22\",\"2016-06-23\",\"2016-06-24\",\"2016-06-27\",\"2016-06-28\",\"2016-06-29\",\"2016-06-30\",\"2016-07-01\",\"2016-07-05\",\"2016-07-06\",\"2016-07-07\",\"2016-07-08\",\"2016-07-11\",\"2016-07-12\",\"2016-07-13\",\"2016-07-14\",\"2016-07-15\",\"2016-07-18\",\"2016-07-19\",\"2016-07-20\",\"2016-07-21\",\"2016-07-22\",\"2016-07-25\",\"2016-07-26\",\"2016-07-27\",\"2016-07-28\",\"2016-07-29\",\"2016-08-01\",\"2016-08-02\",\"2016-08-03\",\"2016-08-04\",\"2016-08-05\",\"2016-08-08\",\"2016-08-09\",\"2016-08-10\",\"2016-08-11\",\"2016-08-12\",\"2016-08-15\",\"2016-08-16\",\"2016-08-17\",\"2016-08-18\",\"2016-08-19\",\"2016-08-22\",\"2016-08-23\",\"2016-08-24\",\"2016-08-25\",\"2016-08-26\",\"2016-08-29\",\"2016-08-30\",\"2016-08-31\",\"2016-09-01\",\"2016-09-02\",\"2016-09-06\",\"2016-09-07\",\"2016-09-08\",\"2016-09-09\",\"2016-09-12\",\"2016-09-13\",\"2016-09-14\",\"2016-09-15\",\"2016-09-16\",\"2016-09-19\",\"2016-09-20\",\"2016-09-21\",\"2016-09-22\",\"2016-09-23\",\"2016-09-26\",\"2016-09-27\",\"2016-09-28\",\"2016-09-29\",\"2016-09-30\",\"2016-10-03\",\"2016-10-04\",\"2016-10-05\",\"2016-10-06\",\"2016-10-07\",\"2016-10-10\",\"2016-10-11\",\"2016-10-12\",\"2016-10-13\",\"2016-10-14\",\"2016-10-17\",\"2016-10-18\",\"2016-10-19\",\"2016-10-20\",\"2016-10-21\",\"2016-10-24\",\"2016-10-25\",\"2016-10-26\",\"2016-10-27\",\"2016-10-28\",\"2016-10-31\",\"2016-11-01\",\"2016-11-02\",\"2016-11-03\",\"2016-11-04\",\"2016-11-07\",\"2016-11-08\",\"2016-11-09\",\"2016-11-10\",\"2016-11-11\",\"2016-11-14\",\"2016-11-15\",\"2016-11-16\",\"2016-11-17\",\"2016-11-18\",\"2016-11-21\",\"2016-11-22\",\"2016-11-23\",\"2016-11-25\",\"2016-11-28\",\"2016-11-29\",\"2016-11-30\",\"2016-12-01\",\"2016-12-02\",\"2016-12-05\",\"2016-12-06\",\"2016-12-07\",\"2016-12-08\",\"2016-12-09\",\"2016-12-12\",\"2016-12-13\",\"2016-12-14\",\"2016-12-15\",\"2016-12-16\",\"2016-12-19\",\"2016-12-20\",\"2016-12-21\",\"2016-12-22\",\"2016-12-23\",\"2016-12-27\",\"2016-12-28\",\"2016-12-29\",\"2016-12-30\",\"2017-01-03\",\"2017-01-04\",\"2017-01-05\",\"2017-01-06\",\"2017-01-09\",\"2017-01-10\",\"2017-01-11\",\"2017-01-12\",\"2017-01-13\",\"2017-01-17\",\"2017-01-18\",\"2017-01-19\",\"2017-01-20\",\"2017-01-23\",\"2017-01-24\",\"2017-01-25\",\"2017-01-26\",\"2017-01-27\",\"2017-01-30\",\"2017-01-31\",\"2017-02-01\",\"2017-02-02\",\"2017-02-03\",\"2017-02-06\",\"2017-02-07\",\"2017-02-08\",\"2017-02-09\",\"2017-02-10\",\"2017-02-13\",\"2017-02-14\",\"2017-02-15\",\"2017-02-16\",\"2017-02-17\",\"2017-02-21\",\"2017-02-22\",\"2017-02-23\",\"2017-02-24\",\"2017-02-27\",\"2017-02-28\",\"2017-03-01\",\"2017-03-02\",\"2017-03-03\",\"2017-03-06\",\"2017-03-07\",\"2017-03-08\",\"2017-03-09\",\"2017-03-10\",\"2017-03-13\",\"2017-03-14\",\"2017-03-15\",\"2017-03-16\",\"2017-03-17\",\"2017-03-20\",\"2017-03-21\",\"2017-03-22\",\"2017-03-23\",\"2017-03-24\",\"2017-03-27\",\"2017-03-28\",\"2017-03-29\",\"2017-03-30\",\"2017-03-31\",\"2017-04-03\",\"2017-04-04\",\"2017-04-05\",\"2017-04-06\",\"2017-04-07\",\"2017-04-10\",\"2017-04-11\",\"2017-04-12\",\"2017-04-13\",\"2017-04-17\",\"2017-04-18\",\"2017-04-19\",\"2017-04-20\",\"2017-04-21\",\"2017-04-24\",\"2017-04-25\",\"2017-04-26\",\"2017-04-27\",\"2017-04-28\",\"2017-05-01\",\"2017-05-02\",\"2017-05-03\",\"2017-05-04\",\"2017-05-05\",\"2017-05-08\",\"2017-05-09\",\"2017-05-10\",\"2017-05-11\",\"2017-05-12\",\"2017-05-15\",\"2017-05-16\",\"2017-05-17\",\"2017-05-18\",\"2017-05-19\",\"2017-05-22\",\"2017-05-23\",\"2017-05-24\",\"2017-05-25\",\"2017-05-26\",\"2017-05-30\",\"2017-05-31\",\"2017-06-01\",\"2017-06-02\",\"2017-06-05\",\"2017-06-06\",\"2017-06-07\",\"2017-06-08\",\"2017-06-09\",\"2017-06-12\",\"2017-06-13\",\"2017-06-14\",\"2017-06-15\",\"2017-06-16\",\"2017-06-19\",\"2017-06-20\",\"2017-06-21\",\"2017-06-22\",\"2017-06-23\",\"2017-06-26\",\"2017-06-27\",\"2017-06-28\",\"2017-06-29\",\"2017-06-30\",\"2017-07-03\",\"2017-07-05\",\"2017-07-06\",\"2017-07-07\",\"2017-07-10\",\"2017-07-11\",\"2017-07-12\",\"2017-07-13\",\"2017-07-14\",\"2017-07-17\",\"2017-07-18\",\"2017-07-19\",\"2017-07-20\",\"2017-07-21\",\"2017-07-24\",\"2017-07-25\",\"2017-07-26\",\"2017-07-27\",\"2017-07-28\",\"2017-07-31\",\"2017-08-01\",\"2017-08-02\",\"2017-08-03\",\"2017-08-04\",\"2017-08-07\",\"2017-08-08\",\"2017-08-09\",\"2017-08-10\",\"2017-08-11\",\"2017-08-14\",\"2017-08-15\",\"2017-08-16\",\"2017-08-17\",\"2017-08-18\",\"2017-08-21\",\"2017-08-22\",\"2017-08-23\",\"2017-08-24\",\"2017-08-25\",\"2017-08-28\",\"2017-08-29\",\"2017-08-30\",\"2017-08-31\",\"2017-09-01\",\"2017-09-05\",\"2017-09-06\",\"2017-09-07\",\"2017-09-08\",\"2017-09-11\",\"2017-09-12\",\"2017-09-13\",\"2017-09-14\",\"2017-09-15\",\"2017-09-18\",\"2017-09-19\",\"2017-09-20\",\"2017-09-21\",\"2017-09-22\",\"2017-09-25\",\"2017-09-26\",\"2017-09-27\",\"2017-09-28\",\"2017-09-29\",\"2017-10-02\",\"2017-10-03\",\"2017-10-04\",\"2017-10-05\",\"2017-10-06\",\"2017-10-09\",\"2017-10-10\",\"2017-10-11\",\"2017-10-12\",\"2017-10-13\",\"2017-10-16\",\"2017-10-17\",\"2017-10-18\",\"2017-10-19\",\"2017-10-20\",\"2017-10-23\",\"2017-10-24\",\"2017-10-25\",\"2017-10-26\",\"2017-10-27\",\"2017-10-30\",\"2017-10-31\",\"2017-11-01\",\"2017-11-02\",\"2017-11-03\",\"2017-11-06\",\"2017-11-07\",\"2017-11-08\",\"2017-11-09\",\"2017-11-10\",\"2017-11-13\",\"2017-11-14\",\"2017-11-15\",\"2017-11-16\",\"2017-11-17\",\"2017-11-20\",\"2017-11-21\",\"2017-11-22\",\"2017-11-24\",\"2017-11-27\",\"2017-11-28\",\"2017-11-29\",\"2017-11-30\",\"2017-12-01\",\"2017-12-04\",\"2017-12-05\",\"2017-12-06\",\"2017-12-07\",\"2017-12-08\",\"2017-12-11\",\"2017-12-12\",\"2017-12-13\",\"2017-12-14\",\"2017-12-15\",\"2017-12-18\",\"2017-12-19\",\"2017-12-20\",\"2017-12-21\",\"2017-12-22\",\"2017-12-26\",\"2017-12-27\",\"2017-12-28\",\"2017-12-29\",\"2018-01-02\",\"2018-01-03\",\"2018-01-04\",\"2018-01-05\",\"2018-01-08\",\"2018-01-09\",\"2018-01-10\",\"2018-01-11\",\"2018-01-12\",\"2018-01-16\",\"2018-01-17\",\"2018-01-18\",\"2018-01-19\",\"2018-01-22\",\"2018-01-23\",\"2018-01-24\",\"2018-01-25\",\"2018-01-26\",\"2018-01-29\",\"2018-01-30\",\"2018-01-31\",\"2018-02-01\",\"2018-02-02\",\"2018-02-05\",\"2018-02-06\",\"2018-02-07\",\"2018-02-08\",\"2018-02-09\",\"2018-02-12\",\"2018-02-13\",\"2018-02-14\",\"2018-02-15\",\"2018-02-16\",\"2018-02-20\",\"2018-02-21\",\"2018-02-22\",\"2018-02-23\",\"2018-02-26\",\"2018-02-27\",\"2018-02-28\",\"2018-03-01\",\"2018-03-02\",\"2018-03-05\",\"2018-03-06\",\"2018-03-07\",\"2018-03-08\",\"2018-03-09\",\"2018-03-12\",\"2018-03-13\",\"2018-03-14\",\"2018-03-15\",\"2018-03-16\",\"2018-03-19\",\"2018-03-20\",\"2018-03-21\",\"2018-03-22\",\"2018-03-23\",\"2018-03-26\",\"2018-03-27\",\"2018-03-28\",\"2018-03-29\",\"2018-04-02\",\"2018-04-03\",\"2018-04-04\",\"2018-04-05\",\"2018-04-06\",\"2018-04-09\",\"2018-04-10\",\"2018-04-11\",\"2018-04-12\",\"2018-04-13\",\"2018-04-16\",\"2018-04-17\",\"2018-04-18\",\"2018-04-19\",\"2018-04-20\",\"2018-04-23\",\"2018-04-24\",\"2018-04-25\",\"2018-04-26\",\"2018-04-27\",\"2018-04-30\",\"2018-05-01\",\"2018-05-02\",\"2018-05-03\",\"2018-05-04\",\"2018-05-07\",\"2018-05-08\",\"2018-05-09\",\"2018-05-10\",\"2018-05-11\",\"2018-05-14\",\"2018-05-15\",\"2018-05-16\",\"2018-05-17\",\"2018-05-18\",\"2018-05-21\",\"2018-05-22\",\"2018-05-23\",\"2018-05-24\",\"2018-05-25\",\"2018-05-29\",\"2018-05-30\",\"2018-05-31\",\"2018-06-01\",\"2018-06-04\",\"2018-06-05\",\"2018-06-06\",\"2018-06-07\",\"2018-06-08\",\"2018-06-11\",\"2018-06-12\",\"2018-06-13\",\"2018-06-14\",\"2018-06-15\",\"2018-06-18\",\"2018-06-19\",\"2018-06-20\",\"2018-06-21\",\"2018-06-22\",\"2018-06-25\",\"2018-06-26\",\"2018-06-27\",\"2018-06-28\",\"2018-06-29\",\"2018-07-02\",\"2018-07-03\",\"2018-07-05\",\"2018-07-06\",\"2018-07-09\",\"2018-07-10\",\"2018-07-11\",\"2018-07-12\",\"2018-07-13\",\"2018-07-16\",\"2018-07-17\",\"2018-07-18\",\"2018-07-19\",\"2018-07-20\",\"2018-07-23\",\"2018-07-24\",\"2018-07-25\",\"2018-07-26\",\"2018-07-27\",\"2018-07-30\",\"2018-07-31\",\"2018-08-01\",\"2018-08-02\",\"2018-08-03\",\"2018-08-06\",\"2018-08-07\",\"2018-08-08\",\"2018-08-09\",\"2018-08-10\",\"2018-08-13\",\"2018-08-14\",\"2018-08-15\",\"2018-08-16\",\"2018-08-17\",\"2018-08-20\",\"2018-08-21\",\"2018-08-22\",\"2018-08-23\",\"2018-08-24\",\"2018-08-27\",\"2018-08-28\",\"2018-08-29\",\"2018-08-30\",\"2018-08-31\",\"2018-09-04\",\"2018-09-05\",\"2018-09-06\",\"2018-09-07\",\"2018-09-10\",\"2018-09-11\",\"2018-09-12\",\"2018-09-13\",\"2018-09-14\",\"2018-09-17\",\"2018-09-18\",\"2018-09-19\",\"2018-09-20\",\"2018-09-21\",\"2018-09-24\",\"2018-09-25\",\"2018-09-26\",\"2018-09-27\",\"2018-09-28\",\"2018-10-01\",\"2018-10-02\",\"2018-10-03\",\"2018-10-04\",\"2018-10-05\",\"2018-10-08\",\"2018-10-09\",\"2018-10-10\",\"2018-10-11\",\"2018-10-12\",\"2018-10-15\",\"2018-10-16\",\"2018-10-17\",\"2018-10-18\",\"2018-10-19\",\"2018-10-22\",\"2018-10-23\",\"2018-10-24\",\"2018-10-25\",\"2018-10-26\",\"2018-10-29\",\"2018-10-30\",\"2018-10-31\",\"2018-11-01\",\"2018-11-02\",\"2018-11-05\",\"2018-11-06\",\"2018-11-07\",\"2018-11-08\",\"2018-11-09\",\"2018-11-12\",\"2018-11-13\",\"2018-11-14\",\"2018-11-15\",\"2018-11-16\",\"2018-11-19\",\"2018-11-20\",\"2018-11-21\",\"2018-11-23\",\"2018-11-26\",\"2018-11-27\",\"2018-11-28\",\"2018-11-29\",\"2018-11-30\",\"2018-12-03\",\"2018-12-04\",\"2018-12-06\",\"2018-12-07\",\"2018-12-10\",\"2018-12-11\",\"2018-12-12\",\"2018-12-13\",\"2018-12-14\",\"2018-12-17\",\"2018-12-18\",\"2018-12-19\",\"2018-12-20\",\"2018-12-21\",\"2018-12-24\",\"2018-12-26\",\"2018-12-27\",\"2018-12-28\",\"2018-12-31\",\"2019-01-02\",\"2019-01-03\",\"2019-01-04\",\"2019-01-07\",\"2019-01-08\",\"2019-01-09\",\"2019-01-10\",\"2019-01-11\",\"2019-01-14\",\"2019-01-15\",\"2019-01-16\",\"2019-01-17\",\"2019-01-18\",\"2019-01-22\",\"2019-01-23\",\"2019-01-24\",\"2019-01-25\",\"2019-01-28\",\"2019-01-29\",\"2019-01-30\",\"2019-01-31\",\"2019-02-01\",\"2019-02-04\",\"2019-02-05\",\"2019-02-06\",\"2019-02-07\",\"2019-02-08\",\"2019-02-11\",\"2019-02-12\",\"2019-02-13\",\"2019-02-14\",\"2019-02-15\",\"2019-02-19\",\"2019-02-20\",\"2019-02-21\",\"2019-02-22\",\"2019-02-25\",\"2019-02-26\",\"2019-02-27\",\"2019-02-28\",\"2019-03-01\",\"2019-03-04\",\"2019-03-05\",\"2019-03-06\",\"2019-03-07\",\"2019-03-08\",\"2019-03-11\",\"2019-03-12\",\"2019-03-13\",\"2019-03-14\",\"2019-03-15\",\"2019-03-18\",\"2019-03-19\",\"2019-03-20\",\"2019-03-21\",\"2019-03-22\",\"2019-03-25\",\"2019-03-26\",\"2019-03-27\",\"2019-03-28\",\"2019-03-29\",\"2019-04-01\",\"2019-04-02\",\"2019-04-03\",\"2019-04-04\",\"2019-04-05\",\"2019-04-08\",\"2019-04-09\",\"2019-04-10\",\"2019-04-11\",\"2019-04-12\",\"2019-04-15\",\"2019-04-16\",\"2019-04-17\",\"2019-04-18\",\"2019-04-22\",\"2019-04-23\",\"2019-04-24\",\"2019-04-25\",\"2019-04-26\",\"2019-04-29\",\"2019-04-30\",\"2019-05-01\",\"2019-05-02\",\"2019-05-03\",\"2019-05-06\",\"2019-05-07\",\"2019-05-08\",\"2019-05-09\",\"2019-05-10\",\"2019-05-13\",\"2019-05-14\",\"2019-05-15\",\"2019-05-16\",\"2019-05-17\",\"2019-05-20\",\"2019-05-21\",\"2019-05-22\",\"2019-05-23\",\"2019-05-24\",\"2019-05-28\",\"2019-05-29\",\"2019-05-30\",\"2019-05-31\",\"2019-06-03\",\"2019-06-04\",\"2019-06-05\",\"2019-06-06\",\"2019-06-07\",\"2019-06-10\",\"2019-06-11\",\"2019-06-12\",\"2019-06-13\",\"2019-06-14\",\"2019-06-17\",\"2019-06-18\",\"2019-06-19\",\"2019-06-20\",\"2019-06-21\",\"2019-06-24\",\"2019-06-25\",\"2019-06-26\",\"2019-06-27\",\"2019-06-28\",\"2019-07-01\",\"2019-07-02\",\"2019-07-03\",\"2019-07-05\",\"2019-07-08\",\"2019-07-09\",\"2019-07-10\",\"2019-07-11\",\"2019-07-12\",\"2019-07-15\",\"2019-07-16\",\"2019-07-17\",\"2019-07-18\",\"2019-07-19\",\"2019-07-22\",\"2019-07-23\",\"2019-07-24\",\"2019-07-25\",\"2019-07-26\",\"2019-07-29\",\"2019-07-30\",\"2019-07-31\",\"2019-08-01\",\"2019-08-02\",\"2019-08-05\",\"2019-08-06\",\"2019-08-07\",\"2019-08-08\",\"2019-08-09\",\"2019-08-12\",\"2019-08-13\",\"2019-08-14\",\"2019-08-15\",\"2019-08-16\",\"2019-08-19\",\"2019-08-20\",\"2019-08-21\",\"2019-08-22\",\"2019-08-23\",\"2019-08-26\",\"2019-08-27\",\"2019-08-28\",\"2019-08-29\",\"2019-08-30\",\"2019-09-03\",\"2019-09-04\",\"2019-09-05\",\"2019-09-06\",\"2019-09-09\",\"2019-09-10\",\"2019-09-11\",\"2019-09-12\",\"2019-09-13\",\"2019-09-16\",\"2019-09-17\",\"2019-09-18\",\"2019-09-19\",\"2019-09-20\",\"2019-09-23\",\"2019-09-24\",\"2019-09-25\",\"2019-09-26\",\"2019-09-27\",\"2019-09-30\",\"2019-10-01\",\"2019-10-02\",\"2019-10-03\",\"2019-10-04\",\"2019-10-07\",\"2019-10-08\",\"2019-10-09\",\"2019-10-10\",\"2019-10-11\",\"2019-10-14\",\"2019-10-15\",\"2019-10-16\",\"2019-10-17\",\"2019-10-18\",\"2019-10-21\",\"2019-10-22\",\"2019-10-23\",\"2019-10-24\",\"2019-10-25\",\"2019-10-28\",\"2019-10-29\",\"2019-10-30\",\"2019-10-31\",\"2019-11-01\",\"2019-11-04\",\"2019-11-05\",\"2019-11-06\",\"2019-11-07\",\"2019-11-08\",\"2019-11-11\",\"2019-11-12\",\"2019-11-13\",\"2019-11-14\",\"2019-11-15\",\"2019-11-18\",\"2019-11-19\",\"2019-11-20\",\"2019-11-21\",\"2019-11-22\",\"2019-11-25\",\"2019-11-26\",\"2019-11-27\",\"2019-11-29\",\"2019-12-02\",\"2019-12-03\",\"2019-12-04\",\"2019-12-05\",\"2019-12-06\",\"2019-12-09\",\"2019-12-10\",\"2019-12-11\",\"2019-12-12\",\"2019-12-13\",\"2019-12-16\",\"2019-12-17\",\"2019-12-18\",\"2019-12-19\",\"2019-12-20\",\"2019-12-23\",\"2019-12-24\",\"2019-12-26\",\"2019-12-27\",\"2019-12-30\",\"2019-12-31\",\"2020-01-02\",\"2020-01-03\",\"2020-01-06\",\"2020-01-07\",\"2020-01-08\",\"2020-01-09\",\"2020-01-10\",\"2020-01-13\",\"2020-01-14\",\"2020-01-15\",\"2020-01-16\",\"2020-01-17\",\"2020-01-21\",\"2020-01-22\",\"2020-01-23\",\"2020-01-24\",\"2020-01-27\",\"2020-01-28\",\"2020-01-29\",\"2020-01-30\",\"2020-01-31\",\"2020-02-03\",\"2020-02-04\",\"2020-02-05\",\"2020-02-06\",\"2020-02-07\",\"2020-02-10\",\"2020-02-11\",\"2020-02-12\",\"2020-02-13\",\"2020-02-14\",\"2020-02-18\",\"2020-02-19\",\"2020-02-20\",\"2020-02-21\",\"2020-02-24\",\"2020-02-25\",\"2020-02-26\",\"2020-02-27\",\"2020-02-28\",\"2020-03-02\",\"2020-03-03\",\"2020-03-04\",\"2020-03-05\",\"2020-03-06\",\"2020-03-09\",\"2020-03-10\",\"2020-03-11\",\"2020-03-12\",\"2020-03-13\",\"2020-03-16\",\"2020-03-17\",\"2020-03-18\",\"2020-03-19\",\"2020-03-20\",\"2020-03-23\",\"2020-03-24\",\"2020-03-25\",\"2020-03-26\",\"2020-03-27\",\"2020-03-30\",\"2020-03-31\",\"2020-04-01\",\"2020-04-02\",\"2020-04-03\",\"2020-04-06\",\"2020-04-07\",\"2020-04-08\",\"2020-04-09\",\"2020-04-13\",\"2020-04-14\",\"2020-04-15\",\"2020-04-16\",\"2020-04-17\",\"2020-04-20\",\"2020-04-21\",\"2020-04-22\",\"2020-04-23\",\"2020-04-24\",\"2020-04-27\",\"2020-04-28\",\"2020-04-29\",\"2020-04-30\",\"2020-05-01\",\"2020-05-04\",\"2020-05-05\",\"2020-05-06\",\"2020-05-07\",\"2020-05-08\",\"2020-05-11\",\"2020-05-12\",\"2020-05-13\",\"2020-05-14\",\"2020-05-15\",\"2020-05-18\",\"2020-05-19\",\"2020-05-20\",\"2020-05-21\",\"2020-05-22\",\"2020-05-26\",\"2020-05-27\",\"2020-05-28\",\"2020-05-29\",\"2020-06-01\",\"2020-06-02\",\"2020-06-03\",\"2020-06-04\",\"2020-06-05\",\"2020-06-08\",\"2020-06-09\",\"2020-06-10\",\"2020-06-11\",\"2020-06-12\",\"2020-06-15\",\"2020-06-16\",\"2020-06-17\",\"2020-06-18\",\"2020-06-19\",\"2020-06-22\",\"2020-06-23\",\"2020-06-24\",\"2020-06-25\",\"2020-06-26\",\"2020-06-29\",\"2020-06-30\",\"2020-07-01\",\"2020-07-02\",\"2020-07-06\",\"2020-07-07\",\"2020-07-08\",\"2020-07-09\",\"2020-07-10\",\"2020-07-13\",\"2020-07-14\",\"2020-07-15\",\"2020-07-16\",\"2020-07-17\",\"2020-07-20\",\"2020-07-21\",\"2020-07-22\",\"2020-07-23\",\"2020-07-24\",\"2020-07-27\",\"2020-07-28\",\"2020-07-29\",\"2020-07-30\",\"2020-07-31\",\"2020-08-03\",\"2020-08-04\",\"2020-08-05\",\"2020-08-06\",\"2020-08-07\",\"2020-08-10\",\"2020-08-11\",\"2020-08-12\",\"2020-08-13\",\"2020-08-14\",\"2020-08-17\",\"2020-08-18\",\"2020-08-19\",\"2020-08-20\",\"2020-08-21\",\"2020-08-24\",\"2020-08-25\",\"2020-08-26\",\"2020-08-27\",\"2020-08-28\",\"2020-08-31\",\"2020-09-01\",\"2020-09-02\",\"2020-09-03\",\"2020-09-04\",\"2020-09-08\",\"2020-09-09\",\"2020-09-10\",\"2020-09-11\",\"2020-09-14\",\"2020-09-15\",\"2020-09-16\",\"2020-09-17\",\"2020-09-18\",\"2020-09-21\",\"2020-09-22\",\"2020-09-23\",\"2020-09-24\",\"2020-09-25\",\"2020-09-28\",\"2020-09-29\",\"2020-09-30\",\"2020-10-01\",\"2020-10-02\",\"2020-10-05\",\"2020-10-06\",\"2020-10-07\",\"2020-10-08\",\"2020-10-09\",\"2020-10-12\",\"2020-10-13\",\"2020-10-14\",\"2020-10-15\",\"2020-10-16\",\"2020-10-19\",\"2020-10-20\",\"2020-10-21\",\"2020-10-22\",\"2020-10-23\",\"2020-10-26\",\"2020-10-27\",\"2020-10-28\",\"2020-10-29\",\"2020-10-30\",\"2020-11-02\",\"2020-11-03\",\"2020-11-04\",\"2020-11-05\",\"2020-11-06\",\"2020-11-09\",\"2020-11-10\",\"2020-11-11\",\"2020-11-12\",\"2020-11-13\",\"2020-11-16\",\"2020-11-17\",\"2020-11-18\",\"2020-11-19\",\"2020-11-20\",\"2020-11-23\",\"2020-11-24\",\"2020-11-25\",\"2020-11-27\",\"2020-11-30\",\"2020-12-01\",\"2020-12-02\",\"2020-12-03\",\"2020-12-04\",\"2020-12-07\",\"2020-12-08\",\"2020-12-09\",\"2020-12-10\",\"2020-12-11\",\"2020-12-14\",\"2020-12-15\",\"2020-12-16\",\"2020-12-17\",\"2020-12-18\",\"2020-12-21\",\"2020-12-22\",\"2020-12-23\",\"2020-12-24\",\"2020-12-28\",\"2020-12-29\",\"2020-12-30\",\"2020-12-31\",\"2021-01-04\",\"2021-01-05\",\"2021-01-06\",\"2021-01-07\",\"2021-01-08\",\"2021-01-11\",\"2021-01-12\",\"2021-01-13\",\"2021-01-14\",\"2021-01-15\",\"2021-01-19\",\"2021-01-20\",\"2021-01-21\",\"2021-01-22\",\"2021-01-25\",\"2021-01-26\",\"2021-01-27\",\"2021-01-28\",\"2021-01-29\",\"2021-02-01\",\"2021-02-02\",\"2021-02-03\",\"2021-02-04\",\"2021-02-05\",\"2021-02-08\",\"2021-02-09\",\"2021-02-10\",\"2021-02-11\",\"2021-02-12\",\"2021-02-16\",\"2021-02-17\",\"2021-02-18\",\"2021-02-19\",\"2021-02-22\",\"2021-02-23\",\"2021-02-24\",\"2021-02-25\",\"2021-02-26\",\"2021-03-01\",\"2021-03-02\",\"2021-03-03\",\"2021-03-04\",\"2021-03-05\",\"2021-03-08\",\"2021-03-09\",\"2021-03-10\",\"2021-03-11\",\"2021-03-12\",\"2021-03-15\",\"2021-03-16\",\"2021-03-17\",\"2021-03-18\",\"2021-03-19\",\"2021-03-22\",\"2021-03-23\",\"2021-03-24\",\"2021-03-25\",\"2021-03-26\",\"2021-03-29\",\"2021-03-30\",\"2021-03-31\",\"2021-04-01\",\"2021-04-05\",\"2021-04-06\",\"2021-04-07\",\"2021-04-08\",\"2021-04-09\",\"2021-04-12\",\"2021-04-13\",\"2021-04-14\",\"2021-04-15\",\"2021-04-16\",\"2021-04-19\",\"2021-04-20\",\"2021-04-21\",\"2021-04-22\",\"2021-04-23\",\"2021-04-26\",\"2021-04-27\",\"2021-04-28\",\"2021-04-29\",\"2021-04-30\",\"2021-05-03\",\"2021-05-04\",\"2021-05-05\",\"2021-05-06\",\"2021-05-07\",\"2021-05-10\",\"2021-05-11\",\"2021-05-12\",\"2021-05-13\",\"2021-05-14\",\"2021-05-17\",\"2021-05-18\",\"2021-05-19\",\"2021-05-20\",\"2021-05-21\",\"2021-05-24\",\"2021-05-25\",\"2021-05-26\",\"2021-05-27\",\"2021-05-28\",\"2021-06-01\",\"2021-06-02\",\"2021-06-03\",\"2021-06-04\",\"2021-06-07\",\"2021-06-08\",\"2021-06-09\",\"2021-06-10\",\"2021-06-11\",\"2021-06-14\",\"2021-06-15\",\"2021-06-16\",\"2021-06-17\",\"2021-06-18\",\"2021-06-21\",\"2021-06-22\",\"2021-06-23\",\"2021-06-24\",\"2021-06-25\",\"2021-06-28\",\"2021-06-29\",\"2021-06-30\",\"2021-07-01\",\"2021-07-02\",\"2021-07-06\",\"2021-07-07\",\"2021-07-08\",\"2021-07-09\",\"2021-07-12\",\"2021-07-13\",\"2021-07-14\",\"2021-07-15\",\"2021-07-16\",\"2021-07-19\",\"2021-07-20\",\"2021-07-21\",\"2021-07-22\",\"2021-07-23\",\"2021-07-26\",\"2021-07-27\",\"2021-07-28\",\"2021-07-29\",\"2021-07-30\",\"2021-08-02\",\"2021-08-03\",\"2021-08-04\",\"2021-08-05\",\"2021-08-06\",\"2021-08-09\",\"2021-08-10\",\"2021-08-11\",\"2021-08-12\",\"2021-08-13\",\"2021-08-16\",\"2021-08-17\",\"2021-08-18\",\"2021-08-19\",\"2021-08-20\",\"2021-08-23\",\"2021-08-24\",\"2021-08-25\",\"2021-08-26\",\"2021-08-27\",\"2021-08-30\",\"2021-08-31\",\"2021-09-01\",\"2021-09-02\",\"2021-09-03\",\"2021-09-07\",\"2021-09-08\",\"2021-09-09\",\"2021-09-10\",\"2021-09-13\",\"2021-09-14\",\"2021-09-15\",\"2021-09-16\",\"2021-09-17\",\"2021-09-20\",\"2021-09-21\",\"2021-09-22\",\"2021-09-23\",\"2021-09-24\",\"2021-09-27\",\"2021-09-28\",\"2021-09-29\",\"2021-09-30\",\"2021-10-01\",\"2021-10-04\",\"2021-10-05\",\"2021-10-06\",\"2021-10-07\",\"2021-10-08\",\"2021-10-11\",\"2021-10-12\",\"2021-10-13\",\"2021-10-14\",\"2021-10-15\",\"2021-10-18\",\"2021-10-19\",\"2021-10-20\",\"2021-10-21\",\"2021-10-22\",\"2021-10-25\",\"2021-10-26\",\"2021-10-27\",\"2021-10-28\",\"2021-10-29\",\"2021-11-01\",\"2021-11-02\",\"2021-11-03\",\"2021-11-04\",\"2021-11-05\",\"2021-11-08\",\"2021-11-09\",\"2021-11-10\",\"2021-11-11\",\"2021-11-12\",\"2021-11-15\",\"2021-11-16\",\"2021-11-17\",\"2021-11-18\",\"2021-11-19\",\"2021-11-22\",\"2021-11-23\",\"2021-11-24\",\"2021-11-26\",\"2021-11-29\",\"2021-11-30\",\"2021-12-01\",\"2021-12-02\",\"2021-12-03\",\"2021-12-06\",\"2021-12-07\",\"2021-12-08\",\"2021-12-09\",\"2021-12-10\",\"2021-12-13\",\"2021-12-14\",\"2021-12-15\",\"2021-12-16\",\"2021-12-17\",\"2021-12-20\",\"2021-12-21\",\"2021-12-22\",\"2021-12-23\",\"2021-12-27\",\"2021-12-28\",\"2021-12-29\",\"2021-12-30\",\"2021-12-31\",\"2022-01-03\",\"2022-01-04\",\"2022-01-05\",\"2022-01-06\",\"2022-01-07\",\"2022-01-10\",\"2022-01-11\",\"2022-01-12\",\"2022-01-13\",\"2022-01-14\",\"2022-01-18\",\"2022-01-19\",\"2022-01-20\",\"2022-01-21\",\"2022-01-24\",\"2022-01-25\",\"2022-01-26\",\"2022-01-27\",\"2022-01-28\",\"2022-01-31\",\"2022-02-01\",\"2022-02-02\",\"2022-02-03\",\"2022-02-04\",\"2022-02-07\",\"2022-02-08\",\"2022-02-09\",\"2022-02-10\",\"2022-02-11\",\"2022-02-14\",\"2022-02-15\",\"2022-02-16\",\"2022-02-17\",\"2022-02-18\",\"2022-02-22\",\"2022-02-23\",\"2022-02-24\",\"2022-02-25\",\"2022-02-28\",\"2022-03-01\",\"2022-03-02\",\"2022-03-03\",\"2022-03-04\",\"2022-03-07\",\"2022-03-08\",\"2022-03-09\",\"2022-03-10\",\"2022-03-11\",\"2022-03-14\",\"2022-03-15\",\"2022-03-16\",\"2022-03-17\",\"2022-03-18\",\"2022-03-21\",\"2022-03-22\",\"2022-03-23\",\"2022-03-24\",\"2022-03-25\",\"2022-03-28\",\"2022-03-29\"]},\"selected\":{\"id\":\"1321\"},\"selection_policy\":{\"id\":\"1337\"}},\"id\":\"1320\",\"type\":\"ColumnDataSource\"},{\"attributes\":{\"line_alpha\":0.1,\"line_color\":\"#fc4f30\",\"line_width\":2,\"x\":{\"field\":\"timestamp\"},\"y\":{\"field\":\"close_SPY\"}},\"id\":\"1324\",\"type\":\"Line\"},{\"attributes\":{},\"id\":\"1276\",\"type\":\"BasicTicker\"},{\"attributes\":{},\"id\":\"1314\",\"type\":\"UnionRenderers\"},{\"attributes\":{},\"id\":\"1273\",\"type\":\"CategoricalTicker\"},{\"attributes\":{\"line_color\":\"#fc4f30\",\"line_width\":2,\"x\":{\"field\":\"timestamp\"},\"y\":{\"field\":\"close_SPY\"}},\"id\":\"1323\",\"type\":\"Line\"},{\"attributes\":{},\"id\":\"1300\",\"type\":\"Selection\"},{\"attributes\":{\"axis_label\":\"price $\",\"coordinates\":null,\"formatter\":{\"id\":\"1297\"},\"group\":null,\"major_label_policy\":{\"id\":\"1298\"},\"ticker\":{\"id\":\"1276\"}},\"id\":\"1275\",\"type\":\"LinearAxis\"},{\"attributes\":{\"line_color\":\"#fc4f30\",\"line_width\":2,\"x\":{\"field\":\"timestamp\"},\"y\":{\"field\":\"close_SPY\"}},\"id\":\"1341\",\"type\":\"Line\"},{\"attributes\":{},\"id\":\"1280\",\"type\":\"PanTool\"},{\"attributes\":{\"factors\":[\"2015-12-01\",\"2015-12-02\",\"2015-12-03\",\"2015-12-04\",\"2015-12-07\",\"2015-12-08\",\"2015-12-09\",\"2015-12-10\",\"2015-12-11\",\"2015-12-14\",\"2015-12-15\",\"2015-12-16\",\"2015-12-17\",\"2015-12-18\",\"2015-12-21\",\"2015-12-22\",\"2015-12-23\",\"2015-12-24\",\"2015-12-28\",\"2015-12-29\",\"2015-12-30\",\"2015-12-31\",\"2016-01-04\",\"2016-01-05\",\"2016-01-06\",\"2016-01-07\",\"2016-01-08\",\"2016-01-11\",\"2016-01-12\",\"2016-01-13\",\"2016-01-14\",\"2016-01-15\",\"2016-01-19\",\"2016-01-20\",\"2016-01-21\",\"2016-01-22\",\"2016-01-25\",\"2016-01-26\",\"2016-01-27\",\"2016-01-28\",\"2016-01-29\",\"2016-02-01\",\"2016-02-02\",\"2016-02-03\",\"2016-02-04\",\"2016-02-05\",\"2016-02-08\",\"2016-02-09\",\"2016-02-10\",\"2016-02-11\",\"2016-02-12\",\"2016-02-16\",\"2016-02-17\",\"2016-02-18\",\"2016-02-19\",\"2016-02-22\",\"2016-02-23\",\"2016-02-24\",\"2016-02-25\",\"2016-02-26\",\"2016-02-29\",\"2016-03-01\",\"2016-03-02\",\"2016-03-03\",\"2016-03-04\",\"2016-03-07\",\"2016-03-08\",\"2016-03-09\",\"2016-03-10\",\"2016-03-11\",\"2016-03-14\",\"2016-03-15\",\"2016-03-16\",\"2016-03-17\",\"2016-03-18\",\"2016-03-21\",\"2016-03-22\",\"2016-03-23\",\"2016-03-24\",\"2016-03-28\",\"2016-03-29\",\"2016-03-30\",\"2016-03-31\",\"2016-04-01\",\"2016-04-04\",\"2016-04-05\",\"2016-04-06\",\"2016-04-07\",\"2016-04-08\",\"2016-04-11\",\"2016-04-12\",\"2016-04-13\",\"2016-04-14\",\"2016-04-15\",\"2016-04-18\",\"2016-04-19\",\"2016-04-20\",\"2016-04-21\",\"2016-04-22\",\"2016-04-25\",\"2016-04-26\",\"2016-04-27\",\"2016-04-28\",\"2016-04-29\",\"2016-05-02\",\"2016-05-03\",\"2016-05-04\",\"2016-05-05\",\"2016-05-06\",\"2016-05-09\",\"2016-05-10\",\"2016-05-11\",\"2016-05-12\",\"2016-05-13\",\"2016-05-16\",\"2016-05-17\",\"2016-05-18\",\"2016-05-19\",\"2016-05-20\",\"2016-05-23\",\"2016-05-24\",\"2016-05-25\",\"2016-05-26\",\"2016-05-27\",\"2016-05-31\",\"2016-06-01\",\"2016-06-02\",\"2016-06-03\",\"2016-06-06\",\"2016-06-07\",\"2016-06-08\",\"2016-06-09\",\"2016-06-10\",\"2016-06-13\",\"2016-06-14\",\"2016-06-15\",\"2016-06-16\",\"2016-06-17\",\"2016-06-20\",\"2016-06-21\",\"2016-06-22\",\"2016-06-23\",\"2016-06-24\",\"2016-06-27\",\"2016-06-28\",\"2016-06-29\",\"2016-06-30\",\"2016-07-01\",\"2016-07-05\",\"2016-07-06\",\"2016-07-07\",\"2016-07-08\",\"2016-07-11\",\"2016-07-12\",\"2016-07-13\",\"2016-07-14\",\"2016-07-15\",\"2016-07-18\",\"2016-07-19\",\"2016-07-20\",\"2016-07-21\",\"2016-07-22\",\"2016-07-25\",\"2016-07-26\",\"2016-07-27\",\"2016-07-28\",\"2016-07-29\",\"2016-08-01\",\"2016-08-02\",\"2016-08-03\",\"2016-08-04\",\"2016-08-05\",\"2016-08-08\",\"2016-08-09\",\"2016-08-10\",\"2016-08-11\",\"2016-08-12\",\"2016-08-15\",\"2016-08-16\",\"2016-08-17\",\"2016-08-18\",\"2016-08-19\",\"2016-08-22\",\"2016-08-23\",\"2016-08-24\",\"2016-08-25\",\"2016-08-26\",\"2016-08-29\",\"2016-08-30\",\"2016-08-31\",\"2016-09-01\",\"2016-09-02\",\"2016-09-06\",\"2016-09-07\",\"2016-09-08\",\"2016-09-09\",\"2016-09-12\",\"2016-09-13\",\"2016-09-14\",\"2016-09-15\",\"2016-09-16\",\"2016-09-19\",\"2016-09-20\",\"2016-09-21\",\"2016-09-22\",\"2016-09-23\",\"2016-09-26\",\"2016-09-27\",\"2016-09-28\",\"2016-09-29\",\"2016-09-30\",\"2016-10-03\",\"2016-10-04\",\"2016-10-05\",\"2016-10-06\",\"2016-10-07\",\"2016-10-10\",\"2016-10-11\",\"2016-10-12\",\"2016-10-13\",\"2016-10-14\",\"2016-10-17\",\"2016-10-18\",\"2016-10-19\",\"2016-10-20\",\"2016-10-21\",\"2016-10-24\",\"2016-10-25\",\"2016-10-26\",\"2016-10-27\",\"2016-10-28\",\"2016-10-31\",\"2016-11-01\",\"2016-11-02\",\"2016-11-03\",\"2016-11-04\",\"2016-11-07\",\"2016-11-08\",\"2016-11-09\",\"2016-11-10\",\"2016-11-11\",\"2016-11-14\",\"2016-11-15\",\"2016-11-16\",\"2016-11-17\",\"2016-11-18\",\"2016-11-21\",\"2016-11-22\",\"2016-11-23\",\"2016-11-25\",\"2016-11-28\",\"2016-11-29\",\"2016-11-30\",\"2016-12-01\",\"2016-12-02\",\"2016-12-05\",\"2016-12-06\",\"2016-12-07\",\"2016-12-08\",\"2016-12-09\",\"2016-12-12\",\"2016-12-13\",\"2016-12-14\",\"2016-12-15\",\"2016-12-16\",\"2016-12-19\",\"2016-12-20\",\"2016-12-21\",\"2016-12-22\",\"2016-12-23\",\"2016-12-27\",\"2016-12-28\",\"2016-12-29\",\"2016-12-30\",\"2017-01-03\",\"2017-01-04\",\"2017-01-05\",\"2017-01-06\",\"2017-01-09\",\"2017-01-10\",\"2017-01-11\",\"2017-01-12\",\"2017-01-13\",\"2017-01-17\",\"2017-01-18\",\"2017-01-19\",\"2017-01-20\",\"2017-01-23\",\"2017-01-24\",\"2017-01-25\",\"2017-01-26\",\"2017-01-27\",\"2017-01-30\",\"2017-01-31\",\"2017-02-01\",\"2017-02-02\",\"2017-02-03\",\"2017-02-06\",\"2017-02-07\",\"2017-02-08\",\"2017-02-09\",\"2017-02-10\",\"2017-02-13\",\"2017-02-14\",\"2017-02-15\",\"2017-02-16\",\"2017-02-17\",\"2017-02-21\",\"2017-02-22\",\"2017-02-23\",\"2017-02-24\",\"2017-02-27\",\"2017-02-28\",\"2017-03-01\",\"2017-03-02\",\"2017-03-03\",\"2017-03-06\",\"2017-03-07\",\"2017-03-08\",\"2017-03-09\",\"2017-03-10\",\"2017-03-13\",\"2017-03-14\",\"2017-03-15\",\"2017-03-16\",\"2017-03-17\",\"2017-03-20\",\"2017-03-21\",\"2017-03-22\",\"2017-03-23\",\"2017-03-24\",\"2017-03-27\",\"2017-03-28\",\"2017-03-29\",\"2017-03-30\",\"2017-03-31\",\"2017-04-03\",\"2017-04-04\",\"2017-04-05\",\"2017-04-06\",\"2017-04-07\",\"2017-04-10\",\"2017-04-11\",\"2017-04-12\",\"2017-04-13\",\"2017-04-17\",\"2017-04-18\",\"2017-04-19\",\"2017-04-20\",\"2017-04-21\",\"2017-04-24\",\"2017-04-25\",\"2017-04-26\",\"2017-04-27\",\"2017-04-28\",\"2017-05-01\",\"2017-05-02\",\"2017-05-03\",\"2017-05-04\",\"2017-05-05\",\"2017-05-08\",\"2017-05-09\",\"2017-05-10\",\"2017-05-11\",\"2017-05-12\",\"2017-05-15\",\"2017-05-16\",\"2017-05-17\",\"2017-05-18\",\"2017-05-19\",\"2017-05-22\",\"2017-05-23\",\"2017-05-24\",\"2017-05-25\",\"2017-05-26\",\"2017-05-30\",\"2017-05-31\",\"2017-06-01\",\"2017-06-02\",\"2017-06-05\",\"2017-06-06\",\"2017-06-07\",\"2017-06-08\",\"2017-06-09\",\"2017-06-12\",\"2017-06-13\",\"2017-06-14\",\"2017-06-15\",\"2017-06-16\",\"2017-06-19\",\"2017-06-20\",\"2017-06-21\",\"2017-06-22\",\"2017-06-23\",\"2017-06-26\",\"2017-06-27\",\"2017-06-28\",\"2017-06-29\",\"2017-06-30\",\"2017-07-03\",\"2017-07-05\",\"2017-07-06\",\"2017-07-07\",\"2017-07-10\",\"2017-07-11\",\"2017-07-12\",\"2017-07-13\",\"2017-07-14\",\"2017-07-17\",\"2017-07-18\",\"2017-07-19\",\"2017-07-20\",\"2017-07-21\",\"2017-07-24\",\"2017-07-25\",\"2017-07-26\",\"2017-07-27\",\"2017-07-28\",\"2017-07-31\",\"2017-08-01\",\"2017-08-02\",\"2017-08-03\",\"2017-08-04\",\"2017-08-07\",\"2017-08-08\",\"2017-08-09\",\"2017-08-10\",\"2017-08-11\",\"2017-08-14\",\"2017-08-15\",\"2017-08-16\",\"2017-08-17\",\"2017-08-18\",\"2017-08-21\",\"2017-08-22\",\"2017-08-23\",\"2017-08-24\",\"2017-08-25\",\"2017-08-28\",\"2017-08-29\",\"2017-08-30\",\"2017-08-31\",\"2017-09-01\",\"2017-09-05\",\"2017-09-06\",\"2017-09-07\",\"2017-09-08\",\"2017-09-11\",\"2017-09-12\",\"2017-09-13\",\"2017-09-14\",\"2017-09-15\",\"2017-09-18\",\"2017-09-19\",\"2017-09-20\",\"2017-09-21\",\"2017-09-22\",\"2017-09-25\",\"2017-09-26\",\"2017-09-27\",\"2017-09-28\",\"2017-09-29\",\"2017-10-02\",\"2017-10-03\",\"2017-10-04\",\"2017-10-05\",\"2017-10-06\",\"2017-10-09\",\"2017-10-10\",\"2017-10-11\",\"2017-10-12\",\"2017-10-13\",\"2017-10-16\",\"2017-10-17\",\"2017-10-18\",\"2017-10-19\",\"2017-10-20\",\"2017-10-23\",\"2017-10-24\",\"2017-10-25\",\"2017-10-26\",\"2017-10-27\",\"2017-10-30\",\"2017-10-31\",\"2017-11-01\",\"2017-11-02\",\"2017-11-03\",\"2017-11-06\",\"2017-11-07\",\"2017-11-08\",\"2017-11-09\",\"2017-11-10\",\"2017-11-13\",\"2017-11-14\",\"2017-11-15\",\"2017-11-16\",\"2017-11-17\",\"2017-11-20\",\"2017-11-21\",\"2017-11-22\",\"2017-11-24\",\"2017-11-27\",\"2017-11-28\",\"2017-11-29\",\"2017-11-30\",\"2017-12-01\",\"2017-12-04\",\"2017-12-05\",\"2017-12-06\",\"2017-12-07\",\"2017-12-08\",\"2017-12-11\",\"2017-12-12\",\"2017-12-13\",\"2017-12-14\",\"2017-12-15\",\"2017-12-18\",\"2017-12-19\",\"2017-12-20\",\"2017-12-21\",\"2017-12-22\",\"2017-12-26\",\"2017-12-27\",\"2017-12-28\",\"2017-12-29\",\"2018-01-02\",\"2018-01-03\",\"2018-01-04\",\"2018-01-05\",\"2018-01-08\",\"2018-01-09\",\"2018-01-10\",\"2018-01-11\",\"2018-01-12\",\"2018-01-16\",\"2018-01-17\",\"2018-01-18\",\"2018-01-19\",\"2018-01-22\",\"2018-01-23\",\"2018-01-24\",\"2018-01-25\",\"2018-01-26\",\"2018-01-29\",\"2018-01-30\",\"2018-01-31\",\"2018-02-01\",\"2018-02-02\",\"2018-02-05\",\"2018-02-06\",\"2018-02-07\",\"2018-02-08\",\"2018-02-09\",\"2018-02-12\",\"2018-02-13\",\"2018-02-14\",\"2018-02-15\",\"2018-02-16\",\"2018-02-20\",\"2018-02-21\",\"2018-02-22\",\"2018-02-23\",\"2018-02-26\",\"2018-02-27\",\"2018-02-28\",\"2018-03-01\",\"2018-03-02\",\"2018-03-05\",\"2018-03-06\",\"2018-03-07\",\"2018-03-08\",\"2018-03-09\",\"2018-03-12\",\"2018-03-13\",\"2018-03-14\",\"2018-03-15\",\"2018-03-16\",\"2018-03-19\",\"2018-03-20\",\"2018-03-21\",\"2018-03-22\",\"2018-03-23\",\"2018-03-26\",\"2018-03-27\",\"2018-03-28\",\"2018-03-29\",\"2018-04-02\",\"2018-04-03\",\"2018-04-04\",\"2018-04-05\",\"2018-04-06\",\"2018-04-09\",\"2018-04-10\",\"2018-04-11\",\"2018-04-12\",\"2018-04-13\",\"2018-04-16\",\"2018-04-17\",\"2018-04-18\",\"2018-04-19\",\"2018-04-20\",\"2018-04-23\",\"2018-04-24\",\"2018-04-25\",\"2018-04-26\",\"2018-04-27\",\"2018-04-30\",\"2018-05-01\",\"2018-05-02\",\"2018-05-03\",\"2018-05-04\",\"2018-05-07\",\"2018-05-08\",\"2018-05-09\",\"2018-05-10\",\"2018-05-11\",\"2018-05-14\",\"2018-05-15\",\"2018-05-16\",\"2018-05-17\",\"2018-05-18\",\"2018-05-21\",\"2018-05-22\",\"2018-05-23\",\"2018-05-24\",\"2018-05-25\",\"2018-05-29\",\"2018-05-30\",\"2018-05-31\",\"2018-06-01\",\"2018-06-04\",\"2018-06-05\",\"2018-06-06\",\"2018-06-07\",\"2018-06-08\",\"2018-06-11\",\"2018-06-12\",\"2018-06-13\",\"2018-06-14\",\"2018-06-15\",\"2018-06-18\",\"2018-06-19\",\"2018-06-20\",\"2018-06-21\",\"2018-06-22\",\"2018-06-25\",\"2018-06-26\",\"2018-06-27\",\"2018-06-28\",\"2018-06-29\",\"2018-07-02\",\"2018-07-03\",\"2018-07-05\",\"2018-07-06\",\"2018-07-09\",\"2018-07-10\",\"2018-07-11\",\"2018-07-12\",\"2018-07-13\",\"2018-07-16\",\"2018-07-17\",\"2018-07-18\",\"2018-07-19\",\"2018-07-20\",\"2018-07-23\",\"2018-07-24\",\"2018-07-25\",\"2018-07-26\",\"2018-07-27\",\"2018-07-30\",\"2018-07-31\",\"2018-08-01\",\"2018-08-02\",\"2018-08-03\",\"2018-08-06\",\"2018-08-07\",\"2018-08-08\",\"2018-08-09\",\"2018-08-10\",\"2018-08-13\",\"2018-08-14\",\"2018-08-15\",\"2018-08-16\",\"2018-08-17\",\"2018-08-20\",\"2018-08-21\",\"2018-08-22\",\"2018-08-23\",\"2018-08-24\",\"2018-08-27\",\"2018-08-28\",\"2018-08-29\",\"2018-08-30\",\"2018-08-31\",\"2018-09-04\",\"2018-09-05\",\"2018-09-06\",\"2018-09-07\",\"2018-09-10\",\"2018-09-11\",\"2018-09-12\",\"2018-09-13\",\"2018-09-14\",\"2018-09-17\",\"2018-09-18\",\"2018-09-19\",\"2018-09-20\",\"2018-09-21\",\"2018-09-24\",\"2018-09-25\",\"2018-09-26\",\"2018-09-27\",\"2018-09-28\",\"2018-10-01\",\"2018-10-02\",\"2018-10-03\",\"2018-10-04\",\"2018-10-05\",\"2018-10-08\",\"2018-10-09\",\"2018-10-10\",\"2018-10-11\",\"2018-10-12\",\"2018-10-15\",\"2018-10-16\",\"2018-10-17\",\"2018-10-18\",\"2018-10-19\",\"2018-10-22\",\"2018-10-23\",\"2018-10-24\",\"2018-10-25\",\"2018-10-26\",\"2018-10-29\",\"2018-10-30\",\"2018-10-31\",\"2018-11-01\",\"2018-11-02\",\"2018-11-05\",\"2018-11-06\",\"2018-11-07\",\"2018-11-08\",\"2018-11-09\",\"2018-11-12\",\"2018-11-13\",\"2018-11-14\",\"2018-11-15\",\"2018-11-16\",\"2018-11-19\",\"2018-11-20\",\"2018-11-21\",\"2018-11-23\",\"2018-11-26\",\"2018-11-27\",\"2018-11-28\",\"2018-11-29\",\"2018-11-30\",\"2018-12-03\",\"2018-12-04\",\"2018-12-06\",\"2018-12-07\",\"2018-12-10\",\"2018-12-11\",\"2018-12-12\",\"2018-12-13\",\"2018-12-14\",\"2018-12-17\",\"2018-12-18\",\"2018-12-19\",\"2018-12-20\",\"2018-12-21\",\"2018-12-24\",\"2018-12-26\",\"2018-12-27\",\"2018-12-28\",\"2018-12-31\",\"2019-01-02\",\"2019-01-03\",\"2019-01-04\",\"2019-01-07\",\"2019-01-08\",\"2019-01-09\",\"2019-01-10\",\"2019-01-11\",\"2019-01-14\",\"2019-01-15\",\"2019-01-16\",\"2019-01-17\",\"2019-01-18\",\"2019-01-22\",\"2019-01-23\",\"2019-01-24\",\"2019-01-25\",\"2019-01-28\",\"2019-01-29\",\"2019-01-30\",\"2019-01-31\",\"2019-02-01\",\"2019-02-04\",\"2019-02-05\",\"2019-02-06\",\"2019-02-07\",\"2019-02-08\",\"2019-02-11\",\"2019-02-12\",\"2019-02-13\",\"2019-02-14\",\"2019-02-15\",\"2019-02-19\",\"2019-02-20\",\"2019-02-21\",\"2019-02-22\",\"2019-02-25\",\"2019-02-26\",\"2019-02-27\",\"2019-02-28\",\"2019-03-01\",\"2019-03-04\",\"2019-03-05\",\"2019-03-06\",\"2019-03-07\",\"2019-03-08\",\"2019-03-11\",\"2019-03-12\",\"2019-03-13\",\"2019-03-14\",\"2019-03-15\",\"2019-03-18\",\"2019-03-19\",\"2019-03-20\",\"2019-03-21\",\"2019-03-22\",\"2019-03-25\",\"2019-03-26\",\"2019-03-27\",\"2019-03-28\",\"2019-03-29\",\"2019-04-01\",\"2019-04-02\",\"2019-04-03\",\"2019-04-04\",\"2019-04-05\",\"2019-04-08\",\"2019-04-09\",\"2019-04-10\",\"2019-04-11\",\"2019-04-12\",\"2019-04-15\",\"2019-04-16\",\"2019-04-17\",\"2019-04-18\",\"2019-04-22\",\"2019-04-23\",\"2019-04-24\",\"2019-04-25\",\"2019-04-26\",\"2019-04-29\",\"2019-04-30\",\"2019-05-01\",\"2019-05-02\",\"2019-05-03\",\"2019-05-06\",\"2019-05-07\",\"2019-05-08\",\"2019-05-09\",\"2019-05-10\",\"2019-05-13\",\"2019-05-14\",\"2019-05-15\",\"2019-05-16\",\"2019-05-17\",\"2019-05-20\",\"2019-05-21\",\"2019-05-22\",\"2019-05-23\",\"2019-05-24\",\"2019-05-28\",\"2019-05-29\",\"2019-05-30\",\"2019-05-31\",\"2019-06-03\",\"2019-06-04\",\"2019-06-05\",\"2019-06-06\",\"2019-06-07\",\"2019-06-10\",\"2019-06-11\",\"2019-06-12\",\"2019-06-13\",\"2019-06-14\",\"2019-06-17\",\"2019-06-18\",\"2019-06-19\",\"2019-06-20\",\"2019-06-21\",\"2019-06-24\",\"2019-06-25\",\"2019-06-26\",\"2019-06-27\",\"2019-06-28\",\"2019-07-01\",\"2019-07-02\",\"2019-07-03\",\"2019-07-05\",\"2019-07-08\",\"2019-07-09\",\"2019-07-10\",\"2019-07-11\",\"2019-07-12\",\"2019-07-15\",\"2019-07-16\",\"2019-07-17\",\"2019-07-18\",\"2019-07-19\",\"2019-07-22\",\"2019-07-23\",\"2019-07-24\",\"2019-07-25\",\"2019-07-26\",\"2019-07-29\",\"2019-07-30\",\"2019-07-31\",\"2019-08-01\",\"2019-08-02\",\"2019-08-05\",\"2019-08-06\",\"2019-08-07\",\"2019-08-08\",\"2019-08-09\",\"2019-08-12\",\"2019-08-13\",\"2019-08-14\",\"2019-08-15\",\"2019-08-16\",\"2019-08-19\",\"2019-08-20\",\"2019-08-21\",\"2019-08-22\",\"2019-08-23\",\"2019-08-26\",\"2019-08-27\",\"2019-08-28\",\"2019-08-29\",\"2019-08-30\",\"2019-09-03\",\"2019-09-04\",\"2019-09-05\",\"2019-09-06\",\"2019-09-09\",\"2019-09-10\",\"2019-09-11\",\"2019-09-12\",\"2019-09-13\",\"2019-09-16\",\"2019-09-17\",\"2019-09-18\",\"2019-09-19\",\"2019-09-20\",\"2019-09-23\",\"2019-09-24\",\"2019-09-25\",\"2019-09-26\",\"2019-09-27\",\"2019-09-30\",\"2019-10-01\",\"2019-10-02\",\"2019-10-03\",\"2019-10-04\",\"2019-10-07\",\"2019-10-08\",\"2019-10-09\",\"2019-10-10\",\"2019-10-11\",\"2019-10-14\",\"2019-10-15\",\"2019-10-16\",\"2019-10-17\",\"2019-10-18\",\"2019-10-21\",\"2019-10-22\",\"2019-10-23\",\"2019-10-24\",\"2019-10-25\",\"2019-10-28\",\"2019-10-29\",\"2019-10-30\",\"2019-10-31\",\"2019-11-01\",\"2019-11-04\",\"2019-11-05\",\"2019-11-06\",\"2019-11-07\",\"2019-11-08\",\"2019-11-11\",\"2019-11-12\",\"2019-11-13\",\"2019-11-14\",\"2019-11-15\",\"2019-11-18\",\"2019-11-19\",\"2019-11-20\",\"2019-11-21\",\"2019-11-22\",\"2019-11-25\",\"2019-11-26\",\"2019-11-27\",\"2019-11-29\",\"2019-12-02\",\"2019-12-03\",\"2019-12-04\",\"2019-12-05\",\"2019-12-06\",\"2019-12-09\",\"2019-12-10\",\"2019-12-11\",\"2019-12-12\",\"2019-12-13\",\"2019-12-16\",\"2019-12-17\",\"2019-12-18\",\"2019-12-19\",\"2019-12-20\",\"2019-12-23\",\"2019-12-24\",\"2019-12-26\",\"2019-12-27\",\"2019-12-30\",\"2019-12-31\",\"2020-01-02\",\"2020-01-03\",\"2020-01-06\",\"2020-01-07\",\"2020-01-08\",\"2020-01-09\",\"2020-01-10\",\"2020-01-13\",\"2020-01-14\",\"2020-01-15\",\"2020-01-16\",\"2020-01-17\",\"2020-01-21\",\"2020-01-22\",\"2020-01-23\",\"2020-01-24\",\"2020-01-27\",\"2020-01-28\",\"2020-01-29\",\"2020-01-30\",\"2020-01-31\",\"2020-02-03\",\"2020-02-04\",\"2020-02-05\",\"2020-02-06\",\"2020-02-07\",\"2020-02-10\",\"2020-02-11\",\"2020-02-12\",\"2020-02-13\",\"2020-02-14\",\"2020-02-18\",\"2020-02-19\",\"2020-02-20\",\"2020-02-21\",\"2020-02-24\",\"2020-02-25\",\"2020-02-26\",\"2020-02-27\",\"2020-02-28\",\"2020-03-02\",\"2020-03-03\",\"2020-03-04\",\"2020-03-05\",\"2020-03-06\",\"2020-03-09\",\"2020-03-10\",\"2020-03-11\",\"2020-03-12\",\"2020-03-13\",\"2020-03-16\",\"2020-03-17\",\"2020-03-18\",\"2020-03-19\",\"2020-03-20\",\"2020-03-23\",\"2020-03-24\",\"2020-03-25\",\"2020-03-26\",\"2020-03-27\",\"2020-03-30\",\"2020-03-31\",\"2020-04-01\",\"2020-04-02\",\"2020-04-03\",\"2020-04-06\",\"2020-04-07\",\"2020-04-08\",\"2020-04-09\",\"2020-04-13\",\"2020-04-14\",\"2020-04-15\",\"2020-04-16\",\"2020-04-17\",\"2020-04-20\",\"2020-04-21\",\"2020-04-22\",\"2020-04-23\",\"2020-04-24\",\"2020-04-27\",\"2020-04-28\",\"2020-04-29\",\"2020-04-30\",\"2020-05-01\",\"2020-05-04\",\"2020-05-05\",\"2020-05-06\",\"2020-05-07\",\"2020-05-08\",\"2020-05-11\",\"2020-05-12\",\"2020-05-13\",\"2020-05-14\",\"2020-05-15\",\"2020-05-18\",\"2020-05-19\",\"2020-05-20\",\"2020-05-21\",\"2020-05-22\",\"2020-05-26\",\"2020-05-27\",\"2020-05-28\",\"2020-05-29\",\"2020-06-01\",\"2020-06-02\",\"2020-06-03\",\"2020-06-04\",\"2020-06-05\",\"2020-06-08\",\"2020-06-09\",\"2020-06-10\",\"2020-06-11\",\"2020-06-12\",\"2020-06-15\",\"2020-06-16\",\"2020-06-17\",\"2020-06-18\",\"2020-06-19\",\"2020-06-22\",\"2020-06-23\",\"2020-06-24\",\"2020-06-25\",\"2020-06-26\",\"2020-06-29\",\"2020-06-30\",\"2020-07-01\",\"2020-07-02\",\"2020-07-06\",\"2020-07-07\",\"2020-07-08\",\"2020-07-09\",\"2020-07-10\",\"2020-07-13\",\"2020-07-14\",\"2020-07-15\",\"2020-07-16\",\"2020-07-17\",\"2020-07-20\",\"2020-07-21\",\"2020-07-22\",\"2020-07-23\",\"2020-07-24\",\"2020-07-27\",\"2020-07-28\",\"2020-07-29\",\"2020-07-30\",\"2020-07-31\",\"2020-08-03\",\"2020-08-04\",\"2020-08-05\",\"2020-08-06\",\"2020-08-07\",\"2020-08-10\",\"2020-08-11\",\"2020-08-12\",\"2020-08-13\",\"2020-08-14\",\"2020-08-17\",\"2020-08-18\",\"2020-08-19\",\"2020-08-20\",\"2020-08-21\",\"2020-08-24\",\"2020-08-25\",\"2020-08-26\",\"2020-08-27\",\"2020-08-28\",\"2020-08-31\",\"2020-09-01\",\"2020-09-02\",\"2020-09-03\",\"2020-09-04\",\"2020-09-08\",\"2020-09-09\",\"2020-09-10\",\"2020-09-11\",\"2020-09-14\",\"2020-09-15\",\"2020-09-16\",\"2020-09-17\",\"2020-09-18\",\"2020-09-21\",\"2020-09-22\",\"2020-09-23\",\"2020-09-24\",\"2020-09-25\",\"2020-09-28\",\"2020-09-29\",\"2020-09-30\",\"2020-10-01\",\"2020-10-02\",\"2020-10-05\",\"2020-10-06\",\"2020-10-07\",\"2020-10-08\",\"2020-10-09\",\"2020-10-12\",\"2020-10-13\",\"2020-10-14\",\"2020-10-15\",\"2020-10-16\",\"2020-10-19\",\"2020-10-20\",\"2020-10-21\",\"2020-10-22\",\"2020-10-23\",\"2020-10-26\",\"2020-10-27\",\"2020-10-28\",\"2020-10-29\",\"2020-10-30\",\"2020-11-02\",\"2020-11-03\",\"2020-11-04\",\"2020-11-05\",\"2020-11-06\",\"2020-11-09\",\"2020-11-10\",\"2020-11-11\",\"2020-11-12\",\"2020-11-13\",\"2020-11-16\",\"2020-11-17\",\"2020-11-18\",\"2020-11-19\",\"2020-11-20\",\"2020-11-23\",\"2020-11-24\",\"2020-11-25\",\"2020-11-27\",\"2020-11-30\",\"2020-12-01\",\"2020-12-02\",\"2020-12-03\",\"2020-12-04\",\"2020-12-07\",\"2020-12-08\",\"2020-12-09\",\"2020-12-10\",\"2020-12-11\",\"2020-12-14\",\"2020-12-15\",\"2020-12-16\",\"2020-12-17\",\"2020-12-18\",\"2020-12-21\",\"2020-12-22\",\"2020-12-23\",\"2020-12-24\",\"2020-12-28\",\"2020-12-29\",\"2020-12-30\",\"2020-12-31\",\"2021-01-04\",\"2021-01-05\",\"2021-01-06\",\"2021-01-07\",\"2021-01-08\",\"2021-01-11\",\"2021-01-12\",\"2021-01-13\",\"2021-01-14\",\"2021-01-15\",\"2021-01-19\",\"2021-01-20\",\"2021-01-21\",\"2021-01-22\",\"2021-01-25\",\"2021-01-26\",\"2021-01-27\",\"2021-01-28\",\"2021-01-29\",\"2021-02-01\",\"2021-02-02\",\"2021-02-03\",\"2021-02-04\",\"2021-02-05\",\"2021-02-08\",\"2021-02-09\",\"2021-02-10\",\"2021-02-11\",\"2021-02-12\",\"2021-02-16\",\"2021-02-17\",\"2021-02-18\",\"2021-02-19\",\"2021-02-22\",\"2021-02-23\",\"2021-02-24\",\"2021-02-25\",\"2021-02-26\",\"2021-03-01\",\"2021-03-02\",\"2021-03-03\",\"2021-03-04\",\"2021-03-05\",\"2021-03-08\",\"2021-03-09\",\"2021-03-10\",\"2021-03-11\",\"2021-03-12\",\"2021-03-15\",\"2021-03-16\",\"2021-03-17\",\"2021-03-18\",\"2021-03-19\",\"2021-03-22\",\"2021-03-23\",\"2021-03-24\",\"2021-03-25\",\"2021-03-26\",\"2021-03-29\",\"2021-03-30\",\"2021-03-31\",\"2021-04-01\",\"2021-04-05\",\"2021-04-06\",\"2021-04-07\",\"2021-04-08\",\"2021-04-09\",\"2021-04-12\",\"2021-04-13\",\"2021-04-14\",\"2021-04-15\",\"2021-04-16\",\"2021-04-19\",\"2021-04-20\",\"2021-04-21\",\"2021-04-22\",\"2021-04-23\",\"2021-04-26\",\"2021-04-27\",\"2021-04-28\",\"2021-04-29\",\"2021-04-30\",\"2021-05-03\",\"2021-05-04\",\"2021-05-05\",\"2021-05-06\",\"2021-05-07\",\"2021-05-10\",\"2021-05-11\",\"2021-05-12\",\"2021-05-13\",\"2021-05-14\",\"2021-05-17\",\"2021-05-18\",\"2021-05-19\",\"2021-05-20\",\"2021-05-21\",\"2021-05-24\",\"2021-05-25\",\"2021-05-26\",\"2021-05-27\",\"2021-05-28\",\"2021-06-01\",\"2021-06-02\",\"2021-06-03\",\"2021-06-04\",\"2021-06-07\",\"2021-06-08\",\"2021-06-09\",\"2021-06-10\",\"2021-06-11\",\"2021-06-14\",\"2021-06-15\",\"2021-06-16\",\"2021-06-17\",\"2021-06-18\",\"2021-06-21\",\"2021-06-22\",\"2021-06-23\",\"2021-06-24\",\"2021-06-25\",\"2021-06-28\",\"2021-06-29\",\"2021-06-30\",\"2021-07-01\",\"2021-07-02\",\"2021-07-06\",\"2021-07-07\",\"2021-07-08\",\"2021-07-09\",\"2021-07-12\",\"2021-07-13\",\"2021-07-14\",\"2021-07-15\",\"2021-07-16\",\"2021-07-19\",\"2021-07-20\",\"2021-07-21\",\"2021-07-22\",\"2021-07-23\",\"2021-07-26\",\"2021-07-27\",\"2021-07-28\",\"2021-07-29\",\"2021-07-30\",\"2021-08-02\",\"2021-08-03\",\"2021-08-04\",\"2021-08-05\",\"2021-08-06\",\"2021-08-09\",\"2021-08-10\",\"2021-08-11\",\"2021-08-12\",\"2021-08-13\",\"2021-08-16\",\"2021-08-17\",\"2021-08-18\",\"2021-08-19\",\"2021-08-20\",\"2021-08-23\",\"2021-08-24\",\"2021-08-25\",\"2021-08-26\",\"2021-08-27\",\"2021-08-30\",\"2021-08-31\",\"2021-09-01\",\"2021-09-02\",\"2021-09-03\",\"2021-09-07\",\"2021-09-08\",\"2021-09-09\",\"2021-09-10\",\"2021-09-13\",\"2021-09-14\",\"2021-09-15\",\"2021-09-16\",\"2021-09-17\",\"2021-09-20\",\"2021-09-21\",\"2021-09-22\",\"2021-09-23\",\"2021-09-24\",\"2021-09-27\",\"2021-09-28\",\"2021-09-29\",\"2021-09-30\",\"2021-10-01\",\"2021-10-04\",\"2021-10-05\",\"2021-10-06\",\"2021-10-07\",\"2021-10-08\",\"2021-10-11\",\"2021-10-12\",\"2021-10-13\",\"2021-10-14\",\"2021-10-15\",\"2021-10-18\",\"2021-10-19\",\"2021-10-20\",\"2021-10-21\",\"2021-10-22\",\"2021-10-25\",\"2021-10-26\",\"2021-10-27\",\"2021-10-28\",\"2021-10-29\",\"2021-11-01\",\"2021-11-02\",\"2021-11-03\",\"2021-11-04\",\"2021-11-05\",\"2021-11-08\",\"2021-11-09\",\"2021-11-10\",\"2021-11-11\",\"2021-11-12\",\"2021-11-15\",\"2021-11-16\",\"2021-11-17\",\"2021-11-18\",\"2021-11-19\",\"2021-11-22\",\"2021-11-23\",\"2021-11-24\",\"2021-11-26\",\"2021-11-29\",\"2021-11-30\",\"2021-12-01\",\"2021-12-02\",\"2021-12-03\",\"2021-12-06\",\"2021-12-07\",\"2021-12-08\",\"2021-12-09\",\"2021-12-10\",\"2021-12-13\",\"2021-12-14\",\"2021-12-15\",\"2021-12-16\",\"2021-12-17\",\"2021-12-20\",\"2021-12-21\",\"2021-12-22\",\"2021-12-23\",\"2021-12-27\",\"2021-12-28\",\"2021-12-29\",\"2021-12-30\",\"2021-12-31\",\"2022-01-03\",\"2022-01-04\",\"2022-01-05\",\"2022-01-06\",\"2022-01-07\",\"2022-01-10\",\"2022-01-11\",\"2022-01-12\",\"2022-01-13\",\"2022-01-14\",\"2022-01-18\",\"2022-01-19\",\"2022-01-20\",\"2022-01-21\",\"2022-01-24\",\"2022-01-25\",\"2022-01-26\",\"2022-01-27\",\"2022-01-28\",\"2022-01-31\",\"2022-02-01\",\"2022-02-02\",\"2022-02-03\",\"2022-02-04\",\"2022-02-07\",\"2022-02-08\",\"2022-02-09\",\"2022-02-10\",\"2022-02-11\",\"2022-02-14\",\"2022-02-15\",\"2022-02-16\",\"2022-02-17\",\"2022-02-18\",\"2022-02-22\",\"2022-02-23\",\"2022-02-24\",\"2022-02-25\",\"2022-02-28\",\"2022-03-01\",\"2022-03-02\",\"2022-03-03\",\"2022-03-04\",\"2022-03-07\",\"2022-03-08\",\"2022-03-09\",\"2022-03-10\",\"2022-03-11\",\"2022-03-14\",\"2022-03-15\",\"2022-03-16\",\"2022-03-17\",\"2022-03-18\",\"2022-03-21\",\"2022-03-22\",\"2022-03-23\",\"2022-03-24\",\"2022-03-25\",\"2022-03-28\",\"2022-03-29\"],\"tags\":[[[\"timestamp\",\"timestamp\",null]]]},\"id\":\"1259\",\"type\":\"FactorRange\"},{\"attributes\":{\"axis\":{\"id\":\"1275\"},\"coordinates\":null,\"dimension\":1,\"grid_line_color\":null,\"group\":null,\"ticker\":null},\"id\":\"1278\",\"type\":\"Grid\"},{\"attributes\":{\"line_alpha\":0.2,\"line_color\":\"#fc4f30\",\"line_width\":2,\"x\":{\"field\":\"timestamp\"},\"y\":{\"field\":\"close_SPY\"}},\"id\":\"1325\",\"type\":\"Line\"},{\"attributes\":{\"margin\":[5,5,5,5],\"name\":\"HSpacer02194\",\"sizing_mode\":\"stretch_width\"},\"id\":\"1450\",\"type\":\"Spacer\"},{\"attributes\":{\"label\":{\"value\":\"SPY\"},\"renderers\":[{\"id\":\"1326\"}]},\"id\":\"1340\",\"type\":\"LegendItem\"},{\"attributes\":{\"overlay\":{\"id\":\"1284\"}},\"id\":\"1282\",\"type\":\"BoxZoomTool\"},{\"attributes\":{\"callback\":null,\"renderers\":[{\"id\":\"1326\"}],\"tags\":[\"hv_created\"],\"tooltips\":[[\"timestamp\",\"@{timestamp}\"],[\"close_SPY\",\"@{close_SPY}\"]]},\"id\":\"1262\",\"type\":\"HoverTool\"},{\"attributes\":{\"end\":524.567,\"reset_end\":524.567,\"reset_start\":-37.717,\"start\":-37.717,\"tags\":[[[\"close_VIX\",\"close_VIX\",null]]]},\"id\":\"1260\",\"type\":\"Range1d\"},{\"attributes\":{\"line_alpha\":0.2,\"line_color\":\"#30a2da\",\"line_width\":2,\"x\":{\"field\":\"timestamp\"},\"y\":{\"field\":\"close_VIX\"}},\"id\":\"1304\",\"type\":\"Line\"},{\"attributes\":{},\"id\":\"1321\",\"type\":\"Selection\"},{\"attributes\":{\"children\":[{\"id\":\"1258\"},{\"id\":\"1263\"},{\"id\":\"1450\"}],\"margin\":[0,0,0,0],\"name\":\"Row02189\",\"tags\":[\"embedded\"]},\"id\":\"1257\",\"type\":\"Row\"},{\"attributes\":{\"line_color\":\"#30a2da\",\"line_width\":2,\"x\":{\"field\":\"timestamp\"},\"y\":{\"field\":\"close_VIX\"}},\"id\":\"1302\",\"type\":\"Line\"},{\"attributes\":{\"source\":{\"id\":\"1320\"}},\"id\":\"1327\",\"type\":\"CDSView\"},{\"attributes\":{\"bottom_units\":\"screen\",\"coordinates\":null,\"fill_alpha\":0.5,\"fill_color\":\"lightgrey\",\"group\":null,\"left_units\":\"screen\",\"level\":\"overlay\",\"line_alpha\":1.0,\"line_color\":\"black\",\"line_dash\":[4,4],\"line_width\":2,\"right_units\":\"screen\",\"syncable\":false,\"top_units\":\"screen\"},\"id\":\"1284\",\"type\":\"BoxAnnotation\"},{\"attributes\":{},\"id\":\"1279\",\"type\":\"SaveTool\"},{\"attributes\":{},\"id\":\"1297\",\"type\":\"BasicTickFormatter\"},{\"attributes\":{\"below\":[{\"id\":\"1272\"}],\"center\":[{\"id\":\"1274\"},{\"id\":\"1278\"},{\"id\":\"1317\"}],\"height\":300,\"left\":[{\"id\":\"1275\"}],\"margin\":[5,5,5,5],\"min_border_bottom\":10,\"min_border_left\":10,\"min_border_right\":10,\"min_border_top\":10,\"renderers\":[{\"id\":\"1305\"},{\"id\":\"1326\"}],\"sizing_mode\":\"fixed\",\"title\":{\"id\":\"1264\"},\"toolbar\":{\"id\":\"1285\"},\"width\":700,\"x_range\":{\"id\":\"1259\"},\"x_scale\":{\"id\":\"1268\"},\"y_range\":{\"id\":\"1260\"},\"y_scale\":{\"id\":\"1270\"}},\"id\":\"1263\",\"subtype\":\"Figure\",\"type\":\"Plot\"},{\"attributes\":{\"data\":{\"close_VIX\":{\"__ndarray__\":\"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\",\"dtype\":\"float64\",\"order\":\"little\",\"shape\":[1593]},\"timestamp\":[\"2015-12-01\",\"2015-12-02\",\"2015-12-03\",\"2015-12-04\",\"2015-12-07\",\"2015-12-08\",\"2015-12-09\",\"2015-12-10\",\"2015-12-11\",\"2015-12-14\",\"2015-12-15\",\"2015-12-16\",\"2015-12-17\",\"2015-12-18\",\"2015-12-21\",\"2015-12-22\",\"2015-12-23\",\"2015-12-24\",\"2015-12-28\",\"2015-12-29\",\"2015-12-30\",\"2015-12-31\",\"2016-01-04\",\"2016-01-05\",\"2016-01-06\",\"2016-01-07\",\"2016-01-08\",\"2016-01-11\",\"2016-01-12\",\"2016-01-13\",\"2016-01-14\",\"2016-01-15\",\"2016-01-19\",\"2016-01-20\",\"2016-01-21\",\"2016-01-22\",\"2016-01-25\",\"2016-01-26\",\"2016-01-27\",\"2016-01-28\",\"2016-01-29\",\"2016-02-01\",\"2016-02-02\",\"2016-02-03\",\"2016-02-04\",\"2016-02-05\",\"2016-02-08\",\"2016-02-09\",\"2016-02-10\",\"2016-02-11\",\"2016-02-12\",\"2016-02-16\",\"2016-02-17\",\"2016-02-18\",\"2016-02-19\",\"2016-02-22\",\"2016-02-23\",\"2016-02-24\",\"2016-02-25\",\"2016-02-26\",\"2016-02-29\",\"2016-03-01\",\"2016-03-02\",\"2016-03-03\",\"2016-03-04\",\"2016-03-07\",\"2016-03-08\",\"2016-03-09\",\"2016-03-10\",\"2016-03-11\",\"2016-03-14\",\"2016-03-15\",\"2016-03-16\",\"2016-03-17\",\"2016-03-18\",\"2016-03-21\",\"2016-03-22\",\"2016-03-23\",\"2016-03-24\",\"2016-03-28\",\"2016-03-29\",\"2016-03-30\",\"2016-03-31\",\"2016-04-01\",\"2016-04-04\",\"2016-04-05\",\"2016-04-06\",\"2016-04-07\",\"2016-04-08\",\"2016-04-11\",\"2016-04-12\",\"2016-04-13\",\"2016-04-14\",\"2016-04-15\",\"2016-04-18\",\"2016-04-19\",\"2016-04-20\",\"2016-04-21\",\"2016-04-22\",\"2016-04-25\",\"2016-04-26\",\"2016-04-27\",\"2016-04-28\",\"2016-04-29\",\"2016-05-02\",\"2016-05-03\",\"2016-05-04\",\"2016-05-05\",\"2016-05-06\",\"2016-05-09\",\"2016-05-10\",\"2016-05-11\",\"2016-05-12\",\"2016-05-13\",\"2016-05-16\",\"2016-05-17\",\"2016-05-18\",\"2016-05-19\",\"2016-05-20\",\"2016-05-23\",\"2016-05-24\",\"2016-05-25\",\"2016-05-26\",\"2016-05-27\",\"2016-05-31\",\"2016-06-01\",\"2016-06-02\",\"2016-06-03\",\"2016-06-06\",\"2016-06-07\",\"2016-06-08\",\"2016-06-09\",\"2016-06-10\",\"2016-06-13\",\"2016-06-14\",\"2016-06-15\",\"2016-06-16\",\"2016-06-17\",\"2016-06-20\",\"2016-06-21\",\"2016-06-22\",\"2016-06-23\",\"2016-06-24\",\"2016-06-27\",\"2016-06-28\",\"2016-06-29\",\"2016-06-30\",\"2016-07-01\",\"2016-07-05\",\"2016-07-06\",\"2016-07-07\",\"2016-07-08\",\"2016-07-11\",\"2016-07-12\",\"2016-07-13\",\"2016-07-14\",\"2016-07-15\",\"2016-07-18\",\"2016-07-19\",\"2016-07-20\",\"2016-07-21\",\"2016-07-22\",\"2016-07-25\",\"2016-07-26\",\"2016-07-27\",\"2016-07-28\",\"2016-07-29\",\"2016-08-01\",\"2016-08-02\",\"2016-08-03\",\"2016-08-04\",\"2016-08-05\",\"2016-08-08\",\"2016-08-09\",\"2016-08-10\",\"2016-08-11\",\"2016-08-12\",\"2016-08-15\",\"2016-08-16\",\"2016-08-17\",\"2016-08-18\",\"2016-08-19\",\"2016-08-22\",\"2016-08-23\",\"2016-08-24\",\"2016-08-25\",\"2016-08-26\",\"2016-08-29\",\"2016-08-30\",\"2016-08-31\",\"2016-09-01\",\"2016-09-02\",\"2016-09-06\",\"2016-09-07\",\"2016-09-08\",\"2016-09-09\",\"2016-09-12\",\"2016-09-13\",\"2016-09-14\",\"2016-09-15\",\"2016-09-16\",\"2016-09-19\",\"2016-09-20\",\"2016-09-21\",\"2016-09-22\",\"2016-09-23\",\"2016-09-26\",\"2016-09-27\",\"2016-09-28\",\"2016-09-29\",\"2016-09-30\",\"2016-10-03\",\"2016-10-04\",\"2016-10-05\",\"2016-10-06\",\"2016-10-07\",\"2016-10-10\",\"2016-10-11\",\"2016-10-12\",\"2016-10-13\",\"2016-10-14\",\"2016-10-17\",\"2016-10-18\",\"2016-10-19\",\"2016-10-20\",\"2016-10-21\",\"2016-10-24\",\"2016-10-25\",\"2016-10-26\",\"2016-10-27\",\"2016-10-28\",\"2016-10-31\",\"2016-11-01\",\"2016-11-02\",\"2016-11-03\",\"2016-11-04\",\"2016-11-07\",\"2016-11-08\",\"2016-11-09\",\"2016-11-10\",\"2016-11-11\",\"2016-11-14\",\"2016-11-15\",\"2016-11-16\",\"2016-11-17\",\"2016-11-18\",\"2016-11-21\",\"2016-11-22\",\"2016-11-23\",\"2016-11-25\",\"2016-11-28\",\"2016-11-29\",\"2016-11-30\",\"2016-12-01\",\"2016-12-02\",\"2016-12-05\",\"2016-12-06\",\"2016-12-07\",\"2016-12-08\",\"2016-12-09\",\"2016-12-12\",\"2016-12-13\",\"2016-12-14\",\"2016-12-15\",\"2016-12-16\",\"2016-12-19\",\"2016-12-20\",\"2016-12-21\",\"2016-12-22\",\"2016-12-23\",\"2016-12-27\",\"2016-12-28\",\"2016-12-29\",\"2016-12-30\",\"2017-01-03\",\"2017-01-04\",\"2017-01-05\",\"2017-01-06\",\"2017-01-09\",\"2017-01-10\",\"2017-01-11\",\"2017-01-12\",\"2017-01-13\",\"2017-01-17\",\"2017-01-18\",\"2017-01-19\",\"2017-01-20\",\"2017-01-23\",\"2017-01-24\",\"2017-01-25\",\"2017-01-26\",\"2017-01-27\",\"2017-01-30\",\"2017-01-31\",\"2017-02-01\",\"2017-02-02\",\"2017-02-03\",\"2017-02-06\",\"2017-02-07\",\"2017-02-08\",\"2017-02-09\",\"2017-02-10\",\"2017-02-13\",\"2017-02-14\",\"2017-02-15\",\"2017-02-16\",\"2017-02-17\",\"2017-02-21\",\"2017-02-22\",\"2017-02-23\",\"2017-02-24\",\"2017-02-27\",\"2017-02-28\",\"2017-03-01\",\"2017-03-02\",\"2017-03-03\",\"2017-03-06\",\"2017-03-07\",\"2017-03-08\",\"2017-03-09\",\"2017-03-10\",\"2017-03-13\",\"2017-03-14\",\"2017-03-15\",\"2017-03-16\",\"2017-03-17\",\"2017-03-20\",\"2017-03-21\",\"2017-03-22\",\"2017-03-23\",\"2017-03-24\",\"2017-03-27\",\"2017-03-28\",\"2017-03-29\",\"2017-03-30\",\"2017-03-31\",\"2017-04-03\",\"2017-04-04\",\"2017-04-05\",\"2017-04-06\",\"2017-04-07\",\"2017-04-10\",\"2017-04-11\",\"2017-04-12\",\"2017-04-13\",\"2017-04-17\",\"2017-04-18\",\"2017-04-19\",\"2017-04-20\",\"2017-04-21\",\"2017-04-24\",\"2017-04-25\",\"2017-04-26\",\"2017-04-27\",\"2017-04-28\",\"2017-05-01\",\"2017-05-02\",\"2017-05-03\",\"2017-05-04\",\"2017-05-05\",\"2017-05-08\",\"2017-05-09\",\"2017-05-10\",\"2017-05-11\",\"2017-05-12\",\"2017-05-15\",\"2017-05-16\",\"2017-05-17\",\"2017-05-18\",\"2017-05-19\",\"2017-05-22\",\"2017-05-23\",\"2017-05-24\",\"2017-05-25\",\"2017-05-26\",\"2017-05-30\",\"2017-05-31\",\"2017-06-01\",\"2017-06-02\",\"2017-06-05\",\"2017-06-06\",\"2017-06-07\",\"2017-06-08\",\"2017-06-09\",\"2017-06-12\",\"2017-06-13\",\"2017-06-14\",\"2017-06-15\",\"2017-06-16\",\"2017-06-19\",\"2017-06-20\",\"2017-06-21\",\"2017-06-22\",\"2017-06-23\",\"2017-06-26\",\"2017-06-27\",\"2017-06-28\",\"2017-06-29\",\"2017-06-30\",\"2017-07-03\",\"2017-07-05\",\"2017-07-06\",\"2017-07-07\",\"2017-07-10\",\"2017-07-11\",\"2017-07-12\",\"2017-07-13\",\"2017-07-14\",\"2017-07-17\",\"2017-07-18\",\"2017-07-19\",\"2017-07-20\",\"2017-07-21\",\"2017-07-24\",\"2017-07-25\",\"2017-07-26\",\"2017-07-27\",\"2017-07-28\",\"2017-07-31\",\"2017-08-01\",\"2017-08-02\",\"2017-08-03\",\"2017-08-04\",\"2017-08-07\",\"2017-08-08\",\"2017-08-09\",\"2017-08-10\",\"2017-08-11\",\"2017-08-14\",\"2017-08-15\",\"2017-08-16\",\"2017-08-17\",\"2017-08-18\",\"2017-08-21\",\"2017-08-22\",\"2017-08-23\",\"2017-08-24\",\"2017-08-25\",\"2017-08-28\",\"2017-08-29\",\"2017-08-30\",\"2017-08-31\",\"2017-09-01\",\"2017-09-05\",\"2017-09-06\",\"2017-09-07\",\"2017-09-08\",\"2017-09-11\",\"2017-09-12\",\"2017-09-13\",\"2017-09-14\",\"2017-09-15\",\"2017-09-18\",\"2017-09-19\",\"2017-09-20\",\"2017-09-21\",\"2017-09-22\",\"2017-09-25\",\"2017-09-26\",\"2017-09-27\",\"2017-09-28\",\"2017-09-29\",\"2017-10-02\",\"2017-10-03\",\"2017-10-04\",\"2017-10-05\",\"2017-10-06\",\"2017-10-09\",\"2017-10-10\",\"2017-10-11\",\"2017-10-12\",\"2017-10-13\",\"2017-10-16\",\"2017-10-17\",\"2017-10-18\",\"2017-10-19\",\"2017-10-20\",\"2017-10-23\",\"2017-10-24\",\"2017-10-25\",\"2017-10-26\",\"2017-10-27\",\"2017-10-30\",\"2017-10-31\",\"2017-11-01\",\"2017-11-02\",\"2017-11-03\",\"2017-11-06\",\"2017-11-07\",\"2017-11-08\",\"2017-11-09\",\"2017-11-10\",\"2017-11-13\",\"2017-11-14\",\"2017-11-15\",\"2017-11-16\",\"2017-11-17\",\"2017-11-20\",\"2017-11-21\",\"2017-11-22\",\"2017-11-24\",\"2017-11-27\",\"2017-11-28\",\"2017-11-29\",\"2017-11-30\",\"2017-12-01\",\"2017-12-04\",\"2017-12-05\",\"2017-12-06\",\"2017-12-07\",\"2017-12-08\",\"2017-12-11\",\"2017-12-12\",\"2017-12-13\",\"2017-12-14\",\"2017-12-15\",\"2017-12-18\",\"2017-12-19\",\"2017-12-20\",\"2017-12-21\",\"2017-12-22\",\"2017-12-26\",\"2017-12-27\",\"2017-12-28\",\"2017-12-29\",\"2018-01-02\",\"2018-01-03\",\"2018-01-04\",\"2018-01-05\",\"2018-01-08\",\"2018-01-09\",\"2018-01-10\",\"2018-01-11\",\"2018-01-12\",\"2018-01-16\",\"2018-01-17\",\"2018-01-18\",\"2018-01-19\",\"2018-01-22\",\"2018-01-23\",\"2018-01-24\",\"2018-01-25\",\"2018-01-26\",\"2018-01-29\",\"2018-01-30\",\"2018-01-31\",\"2018-02-01\",\"2018-02-02\",\"2018-02-05\",\"2018-02-06\",\"2018-02-07\",\"2018-02-08\",\"2018-02-09\",\"2018-02-12\",\"2018-02-13\",\"2018-02-14\",\"2018-02-15\",\"2018-02-16\",\"2018-02-20\",\"2018-02-21\",\"2018-02-22\",\"2018-02-23\",\"2018-02-26\",\"2018-02-27\",\"2018-02-28\",\"2018-03-01\",\"2018-03-02\",\"2018-03-05\",\"2018-03-06\",\"2018-03-07\",\"2018-03-08\",\"2018-03-09\",\"2018-03-12\",\"2018-03-13\",\"2018-03-14\",\"2018-03-15\",\"2018-03-16\",\"2018-03-19\",\"2018-03-20\",\"2018-03-21\",\"2018-03-22\",\"2018-03-23\",\"2018-03-26\",\"2018-03-27\",\"2018-03-28\",\"2018-03-29\",\"2018-04-02\",\"2018-04-03\",\"2018-04-04\",\"2018-04-05\",\"2018-04-06\",\"2018-04-09\",\"2018-04-10\",\"2018-04-11\",\"2018-04-12\",\"2018-04-13\",\"2018-04-16\",\"2018-04-17\",\"2018-04-18\",\"2018-04-19\",\"2018-04-20\",\"2018-04-23\",\"2018-04-24\",\"2018-04-25\",\"2018-04-26\",\"2018-04-27\",\"2018-04-30\",\"2018-05-01\",\"2018-05-02\",\"2018-05-03\",\"2018-05-04\",\"2018-05-07\",\"2018-05-08\",\"2018-05-09\",\"2018-05-10\",\"2018-05-11\",\"2018-05-14\",\"2018-05-15\",\"2018-05-16\",\"2018-05-17\",\"2018-05-18\",\"2018-05-21\",\"2018-05-22\",\"2018-05-23\",\"2018-05-24\",\"2018-05-25\",\"2018-05-29\",\"2018-05-30\",\"2018-05-31\",\"2018-06-01\",\"2018-06-04\",\"2018-06-05\",\"2018-06-06\",\"2018-06-07\",\"2018-06-08\",\"2018-06-11\",\"2018-06-12\",\"2018-06-13\",\"2018-06-14\",\"2018-06-15\",\"2018-06-18\",\"2018-06-19\",\"2018-06-20\",\"2018-06-21\",\"2018-06-22\",\"2018-06-25\",\"2018-06-26\",\"2018-06-27\",\"2018-06-28\",\"2018-06-29\",\"2018-07-02\",\"2018-07-03\",\"2018-07-05\",\"2018-07-06\",\"2018-07-09\",\"2018-07-10\",\"2018-07-11\",\"2018-07-12\",\"2018-07-13\",\"2018-07-16\",\"2018-07-17\",\"2018-07-18\",\"2018-07-19\",\"2018-07-20\",\"2018-07-23\",\"2018-07-24\",\"2018-07-25\",\"2018-07-26\",\"2018-07-27\",\"2018-07-30\",\"2018-07-31\",\"2018-08-01\",\"2018-08-02\",\"2018-08-03\",\"2018-08-06\",\"2018-08-07\",\"2018-08-08\",\"2018-08-09\",\"2018-08-10\",\"2018-08-13\",\"2018-08-14\",\"2018-08-15\",\"2018-08-16\",\"2018-08-17\",\"2018-08-20\",\"2018-08-21\",\"2018-08-22\",\"2018-08-23\",\"2018-08-24\",\"2018-08-27\",\"2018-08-28\",\"2018-08-29\",\"2018-08-30\",\"2018-08-31\",\"2018-09-04\",\"2018-09-05\",\"2018-09-06\",\"2018-09-07\",\"2018-09-10\",\"2018-09-11\",\"2018-09-12\",\"2018-09-13\",\"2018-09-14\",\"2018-09-17\",\"2018-09-18\",\"2018-09-19\",\"2018-09-20\",\"2018-09-21\",\"2018-09-24\",\"2018-09-25\",\"2018-09-26\",\"2018-09-27\",\"2018-09-28\",\"2018-10-01\",\"2018-10-02\",\"2018-10-03\",\"2018-10-04\",\"2018-10-05\",\"2018-10-08\",\"2018-10-09\",\"2018-10-10\",\"2018-10-11\",\"2018-10-12\",\"2018-10-15\",\"2018-10-16\",\"2018-10-17\",\"2018-10-18\",\"2018-10-19\",\"2018-10-22\",\"2018-10-23\",\"2018-10-24\",\"2018-10-25\",\"2018-10-26\",\"2018-10-29\",\"2018-10-30\",\"2018-10-31\",\"2018-11-01\",\"2018-11-02\",\"2018-11-05\",\"2018-11-06\",\"2018-11-07\",\"2018-11-08\",\"2018-11-09\",\"2018-11-12\",\"2018-11-13\",\"2018-11-14\",\"2018-11-15\",\"2018-11-16\",\"2018-11-19\",\"2018-11-20\",\"2018-11-21\",\"2018-11-23\",\"2018-11-26\",\"2018-11-27\",\"2018-11-28\",\"2018-11-29\",\"2018-11-30\",\"2018-12-03\",\"2018-12-04\",\"2018-12-06\",\"2018-12-07\",\"2018-12-10\",\"2018-12-11\",\"2018-12-12\",\"2018-12-13\",\"2018-12-14\",\"2018-12-17\",\"2018-12-18\",\"2018-12-19\",\"2018-12-20\",\"2018-12-21\",\"2018-12-24\",\"2018-12-26\",\"2018-12-27\",\"2018-12-28\",\"2018-12-31\",\"2019-01-02\",\"2019-01-03\",\"2019-01-04\",\"2019-01-07\",\"2019-01-08\",\"2019-01-09\",\"2019-01-10\",\"2019-01-11\",\"2019-01-14\",\"2019-01-15\",\"2019-01-16\",\"2019-01-17\",\"2019-01-18\",\"2019-01-22\",\"2019-01-23\",\"2019-01-24\",\"2019-01-25\",\"2019-01-28\",\"2019-01-29\",\"2019-01-30\",\"2019-01-31\",\"2019-02-01\",\"2019-02-04\",\"2019-02-05\",\"2019-02-06\",\"2019-02-07\",\"2019-02-08\",\"2019-02-11\",\"2019-02-12\",\"2019-02-13\",\"2019-02-14\",\"2019-02-15\",\"2019-02-19\",\"2019-02-20\",\"2019-02-21\",\"2019-02-22\",\"2019-02-25\",\"2019-02-26\",\"2019-02-27\",\"2019-02-28\",\"2019-03-01\",\"2019-03-04\",\"2019-03-05\",\"2019-03-06\",\"2019-03-07\",\"2019-03-08\",\"2019-03-11\",\"2019-03-12\",\"2019-03-13\",\"2019-03-14\",\"2019-03-15\",\"2019-03-18\",\"2019-03-19\",\"2019-03-20\",\"2019-03-21\",\"2019-03-22\",\"2019-03-25\",\"2019-03-26\",\"2019-03-27\",\"2019-03-28\",\"2019-03-29\",\"2019-04-01\",\"2019-04-02\",\"2019-04-03\",\"2019-04-04\",\"2019-04-05\",\"2019-04-08\",\"2019-04-09\",\"2019-04-10\",\"2019-04-11\",\"2019-04-12\",\"2019-04-15\",\"2019-04-16\",\"2019-04-17\",\"2019-04-18\",\"2019-04-22\",\"2019-04-23\",\"2019-04-24\",\"2019-04-25\",\"2019-04-26\",\"2019-04-29\",\"2019-04-30\",\"2019-05-01\",\"2019-05-02\",\"2019-05-03\",\"2019-05-06\",\"2019-05-07\",\"2019-05-08\",\"2019-05-09\",\"2019-05-10\",\"2019-05-13\",\"2019-05-14\",\"2019-05-15\",\"2019-05-16\",\"2019-05-17\",\"2019-05-20\",\"2019-05-21\",\"2019-05-22\",\"2019-05-23\",\"2019-05-24\",\"2019-05-28\",\"2019-05-29\",\"2019-05-30\",\"2019-05-31\",\"2019-06-03\",\"2019-06-04\",\"2019-06-05\",\"2019-06-06\",\"2019-06-07\",\"2019-06-10\",\"2019-06-11\",\"2019-06-12\",\"2019-06-13\",\"2019-06-14\",\"2019-06-17\",\"2019-06-18\",\"2019-06-19\",\"2019-06-20\",\"2019-06-21\",\"2019-06-24\",\"2019-06-25\",\"2019-06-26\",\"2019-06-27\",\"2019-06-28\",\"2019-07-01\",\"2019-07-02\",\"2019-07-03\",\"2019-07-05\",\"2019-07-08\",\"2019-07-09\",\"2019-07-10\",\"2019-07-11\",\"2019-07-12\",\"2019-07-15\",\"2019-07-16\",\"2019-07-17\",\"2019-07-18\",\"2019-07-19\",\"2019-07-22\",\"2019-07-23\",\"2019-07-24\",\"2019-07-25\",\"2019-07-26\",\"2019-07-29\",\"2019-07-30\",\"2019-07-31\",\"2019-08-01\",\"2019-08-02\",\"2019-08-05\",\"2019-08-06\",\"2019-08-07\",\"2019-08-08\",\"2019-08-09\",\"2019-08-12\",\"2019-08-13\",\"2019-08-14\",\"2019-08-15\",\"2019-08-16\",\"2019-08-19\",\"2019-08-20\",\"2019-08-21\",\"2019-08-22\",\"2019-08-23\",\"2019-08-26\",\"2019-08-27\",\"2019-08-28\",\"2019-08-29\",\"2019-08-30\",\"2019-09-03\",\"2019-09-04\",\"2019-09-05\",\"2019-09-06\",\"2019-09-09\",\"2019-09-10\",\"2019-09-11\",\"2019-09-12\",\"2019-09-13\",\"2019-09-16\",\"2019-09-17\",\"2019-09-18\",\"2019-09-19\",\"2019-09-20\",\"2019-09-23\",\"2019-09-24\",\"2019-09-25\",\"2019-09-26\",\"2019-09-27\",\"2019-09-30\",\"2019-10-01\",\"2019-10-02\",\"2019-10-03\",\"2019-10-04\",\"2019-10-07\",\"2019-10-08\",\"2019-10-09\",\"2019-10-10\",\"2019-10-11\",\"2019-10-14\",\"2019-10-15\",\"2019-10-16\",\"2019-10-17\",\"2019-10-18\",\"2019-10-21\",\"2019-10-22\",\"2019-10-23\",\"2019-10-24\",\"2019-10-25\",\"2019-10-28\",\"2019-10-29\",\"2019-10-30\",\"2019-10-31\",\"2019-11-01\",\"2019-11-04\",\"2019-11-05\",\"2019-11-06\",\"2019-11-07\",\"2019-11-08\",\"2019-11-11\",\"2019-11-12\",\"2019-11-13\",\"2019-11-14\",\"2019-11-15\",\"2019-11-18\",\"2019-11-19\",\"2019-11-20\",\"2019-11-21\",\"2019-11-22\",\"2019-11-25\",\"2019-11-26\",\"2019-11-27\",\"2019-11-29\",\"2019-12-02\",\"2019-12-03\",\"2019-12-04\",\"2019-12-05\",\"2019-12-06\",\"2019-12-09\",\"2019-12-10\",\"2019-12-11\",\"2019-12-12\",\"2019-12-13\",\"2019-12-16\",\"2019-12-17\",\"2019-12-18\",\"2019-12-19\",\"2019-12-20\",\"2019-12-23\",\"2019-12-24\",\"2019-12-26\",\"2019-12-27\",\"2019-12-30\",\"2019-12-31\",\"2020-01-02\",\"2020-01-03\",\"2020-01-06\",\"2020-01-07\",\"2020-01-08\",\"2020-01-09\",\"2020-01-10\",\"2020-01-13\",\"2020-01-14\",\"2020-01-15\",\"2020-01-16\",\"2020-01-17\",\"2020-01-21\",\"2020-01-22\",\"2020-01-23\",\"2020-01-24\",\"2020-01-27\",\"2020-01-28\",\"2020-01-29\",\"2020-01-30\",\"2020-01-31\",\"2020-02-03\",\"2020-02-04\",\"2020-02-05\",\"2020-02-06\",\"2020-02-07\",\"2020-02-10\",\"2020-02-11\",\"2020-02-12\",\"2020-02-13\",\"2020-02-14\",\"2020-02-18\",\"2020-02-19\",\"2020-02-20\",\"2020-02-21\",\"2020-02-24\",\"2020-02-25\",\"2020-02-26\",\"2020-02-27\",\"2020-02-28\",\"2020-03-02\",\"2020-03-03\",\"2020-03-04\",\"2020-03-05\",\"2020-03-06\",\"2020-03-09\",\"2020-03-10\",\"2020-03-11\",\"2020-03-12\",\"2020-03-13\",\"2020-03-16\",\"2020-03-17\",\"2020-03-18\",\"2020-03-19\",\"2020-03-20\",\"2020-03-23\",\"2020-03-24\",\"2020-03-25\",\"2020-03-26\",\"2020-03-27\",\"2020-03-30\",\"2020-03-31\",\"2020-04-01\",\"2020-04-02\",\"2020-04-03\",\"2020-04-06\",\"2020-04-07\",\"2020-04-08\",\"2020-04-09\",\"2020-04-13\",\"2020-04-14\",\"2020-04-15\",\"2020-04-16\",\"2020-04-17\",\"2020-04-20\",\"2020-04-21\",\"2020-04-22\",\"2020-04-23\",\"2020-04-24\",\"2020-04-27\",\"2020-04-28\",\"2020-04-29\",\"2020-04-30\",\"2020-05-01\",\"2020-05-04\",\"2020-05-05\",\"2020-05-06\",\"2020-05-07\",\"2020-05-08\",\"2020-05-11\",\"2020-05-12\",\"2020-05-13\",\"2020-05-14\",\"2020-05-15\",\"2020-05-18\",\"2020-05-19\",\"2020-05-20\",\"2020-05-21\",\"2020-05-22\",\"2020-05-26\",\"2020-05-27\",\"2020-05-28\",\"2020-05-29\",\"2020-06-01\",\"2020-06-02\",\"2020-06-03\",\"2020-06-04\",\"2020-06-05\",\"2020-06-08\",\"2020-06-09\",\"2020-06-10\",\"2020-06-11\",\"2020-06-12\",\"2020-06-15\",\"2020-06-16\",\"2020-06-17\",\"2020-06-18\",\"2020-06-19\",\"2020-06-22\",\"2020-06-23\",\"2020-06-24\",\"2020-06-25\",\"2020-06-26\",\"2020-06-29\",\"2020-06-30\",\"2020-07-01\",\"2020-07-02\",\"2020-07-06\",\"2020-07-07\",\"2020-07-08\",\"2020-07-09\",\"2020-07-10\",\"2020-07-13\",\"2020-07-14\",\"2020-07-15\",\"2020-07-16\",\"2020-07-17\",\"2020-07-20\",\"2020-07-21\",\"2020-07-22\",\"2020-07-23\",\"2020-07-24\",\"2020-07-27\",\"2020-07-28\",\"2020-07-29\",\"2020-07-30\",\"2020-07-31\",\"2020-08-03\",\"2020-08-04\",\"2020-08-05\",\"2020-08-06\",\"2020-08-07\",\"2020-08-10\",\"2020-08-11\",\"2020-08-12\",\"2020-08-13\",\"2020-08-14\",\"2020-08-17\",\"2020-08-18\",\"2020-08-19\",\"2020-08-20\",\"2020-08-21\",\"2020-08-24\",\"2020-08-25\",\"2020-08-26\",\"2020-08-27\",\"2020-08-28\",\"2020-08-31\",\"2020-09-01\",\"2020-09-02\",\"2020-09-03\",\"2020-09-04\",\"2020-09-08\",\"2020-09-09\",\"2020-09-10\",\"2020-09-11\",\"2020-09-14\",\"2020-09-15\",\"2020-09-16\",\"2020-09-17\",\"2020-09-18\",\"2020-09-21\",\"2020-09-22\",\"2020-09-23\",\"2020-09-24\",\"2020-09-25\",\"2020-09-28\",\"2020-09-29\",\"2020-09-30\",\"2020-10-01\",\"2020-10-02\",\"2020-10-05\",\"2020-10-06\",\"2020-10-07\",\"2020-10-08\",\"2020-10-09\",\"2020-10-12\",\"2020-10-13\",\"2020-10-14\",\"2020-10-15\",\"2020-10-16\",\"2020-10-19\",\"2020-10-20\",\"2020-10-21\",\"2020-10-22\",\"2020-10-23\",\"2020-10-26\",\"2020-10-27\",\"2020-10-28\",\"2020-10-29\",\"2020-10-30\",\"2020-11-02\",\"2020-11-03\",\"2020-11-04\",\"2020-11-05\",\"2020-11-06\",\"2020-11-09\",\"2020-11-10\",\"2020-11-11\",\"2020-11-12\",\"2020-11-13\",\"2020-11-16\",\"2020-11-17\",\"2020-11-18\",\"2020-11-19\",\"2020-11-20\",\"2020-11-23\",\"2020-11-24\",\"2020-11-25\",\"2020-11-27\",\"2020-11-30\",\"2020-12-01\",\"2020-12-02\",\"2020-12-03\",\"2020-12-04\",\"2020-12-07\",\"2020-12-08\",\"2020-12-09\",\"2020-12-10\",\"2020-12-11\",\"2020-12-14\",\"2020-12-15\",\"2020-12-16\",\"2020-12-17\",\"2020-12-18\",\"2020-12-21\",\"2020-12-22\",\"2020-12-23\",\"2020-12-24\",\"2020-12-28\",\"2020-12-29\",\"2020-12-30\",\"2020-12-31\",\"2021-01-04\",\"2021-01-05\",\"2021-01-06\",\"2021-01-07\",\"2021-01-08\",\"2021-01-11\",\"2021-01-12\",\"2021-01-13\",\"2021-01-14\",\"2021-01-15\",\"2021-01-19\",\"2021-01-20\",\"2021-01-21\",\"2021-01-22\",\"2021-01-25\",\"2021-01-26\",\"2021-01-27\",\"2021-01-28\",\"2021-01-29\",\"2021-02-01\",\"2021-02-02\",\"2021-02-03\",\"2021-02-04\",\"2021-02-05\",\"2021-02-08\",\"2021-02-09\",\"2021-02-10\",\"2021-02-11\",\"2021-02-12\",\"2021-02-16\",\"2021-02-17\",\"2021-02-18\",\"2021-02-19\",\"2021-02-22\",\"2021-02-23\",\"2021-02-24\",\"2021-02-25\",\"2021-02-26\",\"2021-03-01\",\"2021-03-02\",\"2021-03-03\",\"2021-03-04\",\"2021-03-05\",\"2021-03-08\",\"2021-03-09\",\"2021-03-10\",\"2021-03-11\",\"2021-03-12\",\"2021-03-15\",\"2021-03-16\",\"2021-03-17\",\"2021-03-18\",\"2021-03-19\",\"2021-03-22\",\"2021-03-23\",\"2021-03-24\",\"2021-03-25\",\"2021-03-26\",\"2021-03-29\",\"2021-03-30\",\"2021-03-31\",\"2021-04-01\",\"2021-04-05\",\"2021-04-06\",\"2021-04-07\",\"2021-04-08\",\"2021-04-09\",\"2021-04-12\",\"2021-04-13\",\"2021-04-14\",\"2021-04-15\",\"2021-04-16\",\"2021-04-19\",\"2021-04-20\",\"2021-04-21\",\"2021-04-22\",\"2021-04-23\",\"2021-04-26\",\"2021-04-27\",\"2021-04-28\",\"2021-04-29\",\"2021-04-30\",\"2021-05-03\",\"2021-05-04\",\"2021-05-05\",\"2021-05-06\",\"2021-05-07\",\"2021-05-10\",\"2021-05-11\",\"2021-05-12\",\"2021-05-13\",\"2021-05-14\",\"2021-05-17\",\"2021-05-18\",\"2021-05-19\",\"2021-05-20\",\"2021-05-21\",\"2021-05-24\",\"2021-05-25\",\"2021-05-26\",\"2021-05-27\",\"2021-05-28\",\"2021-06-01\",\"2021-06-02\",\"2021-06-03\",\"2021-06-04\",\"2021-06-07\",\"2021-06-08\",\"2021-06-09\",\"2021-06-10\",\"2021-06-11\",\"2021-06-14\",\"2021-06-15\",\"2021-06-16\",\"2021-06-17\",\"2021-06-18\",\"2021-06-21\",\"2021-06-22\",\"2021-06-23\",\"2021-06-24\",\"2021-06-25\",\"2021-06-28\",\"2021-06-29\",\"2021-06-30\",\"2021-07-01\",\"2021-07-02\",\"2021-07-06\",\"2021-07-07\",\"2021-07-08\",\"2021-07-09\",\"2021-07-12\",\"2021-07-13\",\"2021-07-14\",\"2021-07-15\",\"2021-07-16\",\"2021-07-19\",\"2021-07-20\",\"2021-07-21\",\"2021-07-22\",\"2021-07-23\",\"2021-07-26\",\"2021-07-27\",\"2021-07-28\",\"2021-07-29\",\"2021-07-30\",\"2021-08-02\",\"2021-08-03\",\"2021-08-04\",\"2021-08-05\",\"2021-08-06\",\"2021-08-09\",\"2021-08-10\",\"2021-08-11\",\"2021-08-12\",\"2021-08-13\",\"2021-08-16\",\"2021-08-17\",\"2021-08-18\",\"2021-08-19\",\"2021-08-20\",\"2021-08-23\",\"2021-08-24\",\"2021-08-25\",\"2021-08-26\",\"2021-08-27\",\"2021-08-30\",\"2021-08-31\",\"2021-09-01\",\"2021-09-02\",\"2021-09-03\",\"2021-09-07\",\"2021-09-08\",\"2021-09-09\",\"2021-09-10\",\"2021-09-13\",\"2021-09-14\",\"2021-09-15\",\"2021-09-16\",\"2021-09-17\",\"2021-09-20\",\"2021-09-21\",\"2021-09-22\",\"2021-09-23\",\"2021-09-24\",\"2021-09-27\",\"2021-09-28\",\"2021-09-29\",\"2021-09-30\",\"2021-10-01\",\"2021-10-04\",\"2021-10-05\",\"2021-10-06\",\"2021-10-07\",\"2021-10-08\",\"2021-10-11\",\"2021-10-12\",\"2021-10-13\",\"2021-10-14\",\"2021-10-15\",\"2021-10-18\",\"2021-10-19\",\"2021-10-20\",\"2021-10-21\",\"2021-10-22\",\"2021-10-25\",\"2021-10-26\",\"2021-10-27\",\"2021-10-28\",\"2021-10-29\",\"2021-11-01\",\"2021-11-02\",\"2021-11-03\",\"2021-11-04\",\"2021-11-05\",\"2021-11-08\",\"2021-11-09\",\"2021-11-10\",\"2021-11-11\",\"2021-11-12\",\"2021-11-15\",\"2021-11-16\",\"2021-11-17\",\"2021-11-18\",\"2021-11-19\",\"2021-11-22\",\"2021-11-23\",\"2021-11-24\",\"2021-11-26\",\"2021-11-29\",\"2021-11-30\",\"2021-12-01\",\"2021-12-02\",\"2021-12-03\",\"2021-12-06\",\"2021-12-07\",\"2021-12-08\",\"2021-12-09\",\"2021-12-10\",\"2021-12-13\",\"2021-12-14\",\"2021-12-15\",\"2021-12-16\",\"2021-12-17\",\"2021-12-20\",\"2021-12-21\",\"2021-12-22\",\"2021-12-23\",\"2021-12-27\",\"2021-12-28\",\"2021-12-29\",\"2021-12-30\",\"2021-12-31\",\"2022-01-03\",\"2022-01-04\",\"2022-01-05\",\"2022-01-06\",\"2022-01-07\",\"2022-01-10\",\"2022-01-11\",\"2022-01-12\",\"2022-01-13\",\"2022-01-14\",\"2022-01-18\",\"2022-01-19\",\"2022-01-20\",\"2022-01-21\",\"2022-01-24\",\"2022-01-25\",\"2022-01-26\",\"2022-01-27\",\"2022-01-28\",\"2022-01-31\",\"2022-02-01\",\"2022-02-02\",\"2022-02-03\",\"2022-02-04\",\"2022-02-07\",\"2022-02-08\",\"2022-02-09\",\"2022-02-10\",\"2022-02-11\",\"2022-02-14\",\"2022-02-15\",\"2022-02-16\",\"2022-02-17\",\"2022-02-18\",\"2022-02-22\",\"2022-02-23\",\"2022-02-24\",\"2022-02-25\",\"2022-02-28\",\"2022-03-01\",\"2022-03-02\",\"2022-03-03\",\"2022-03-04\",\"2022-03-07\",\"2022-03-08\",\"2022-03-09\",\"2022-03-10\",\"2022-03-11\",\"2022-03-14\",\"2022-03-15\",\"2022-03-16\",\"2022-03-17\",\"2022-03-18\",\"2022-03-21\",\"2022-03-22\",\"2022-03-23\",\"2022-03-24\",\"2022-03-25\",\"2022-03-28\",\"2022-03-29\"]},\"selected\":{\"id\":\"1300\"},\"selection_policy\":{\"id\":\"1314\"}},\"id\":\"1299\",\"type\":\"ColumnDataSource\"}],\"root_ids\":[\"1257\"]},\"title\":\"Bokeh Application\",\"version\":\"2.4.1\"}};\n",
       "    var render_items = [{\"docid\":\"cd16581d-287c-4181-a4ce-823b4713ed6e\",\"root_ids\":[\"1257\"],\"roots\":{\"1257\":\"6c18f1df-79b4-46dd-9791-f900975ba660\"}}];\n",
       "    root.Bokeh.embed.embed_items_notebook(docs_json, render_items);\n",
       "  }\n",
       "  if (root.Bokeh !== undefined && root.Bokeh.Panel !== undefined) {\n",
       "    embed_document(root);\n",
       "  } else {\n",
       "    var attempts = 0;\n",
       "    var timer = setInterval(function(root) {\n",
       "      if (root.Bokeh !== undefined && root.Bokeh.Panel !== undefined) {\n",
       "        clearInterval(timer);\n",
       "        embed_document(root);\n",
       "      } else if (document.readyState == \"complete\") {\n",
       "        attempts++;\n",
       "        if (attempts > 200) {\n",
       "          clearInterval(timer);\n",
       "          console.log(\"Bokeh: ERROR: Unable to run BokehJS code because BokehJS library is missing\");\n",
       "        }\n",
       "      }\n",
       "    }, 25, root)\n",
       "  }\n",
       "})(window);</script>"
      ],
      "text/plain": [
       ":Overlay\n",
       "   .Curve.VIX :Curve   [timestamp]   (close_VIX)\n",
       "   .Curve.SPY :Curve   [timestamp]   (close_SPY)"
      ]
     },
     "execution_count": 75,
     "metadata": {
      "application/vnd.holoviews_exec.v0+json": {
       "id": "1257"
      }
     },
     "output_type": "execute_result"
    }
   ],
   "source": [
    "# working_data.plot(x='timestamp', y= 'close_SPY',)\n",
    "working_data['close_VIX'].hvplot(label='VIX',xlabel='date', ylabel='price $',title ='VIX and SPY close price from 2015-12-02 to 2022-3-29') *  working_data['close_SPY'].hvplot(label='SPY')"
   ]
  },
  {
   "cell_type": "code",
   "execution_count": 76,
   "metadata": {},
   "outputs": [
    {
     "data": {
      "text/html": [
       "<div>\n",
       "<style scoped>\n",
       "    .dataframe tbody tr th:only-of-type {\n",
       "        vertical-align: middle;\n",
       "    }\n",
       "\n",
       "    .dataframe tbody tr th {\n",
       "        vertical-align: top;\n",
       "    }\n",
       "\n",
       "    .dataframe thead th {\n",
       "        text-align: right;\n",
       "    }\n",
       "</style>\n",
       "<table border=\"1\" class=\"dataframe\">\n",
       "  <thead>\n",
       "    <tr style=\"text-align: right;\">\n",
       "      <th></th>\n",
       "      <th>timestamp</th>\n",
       "      <th>close_SPY</th>\n",
       "      <th>close_VIX</th>\n",
       "    </tr>\n",
       "  </thead>\n",
       "  <tbody>\n",
       "    <tr>\n",
       "      <th>0</th>\n",
       "      <td>2015-12-01</td>\n",
       "      <td>210.68</td>\n",
       "      <td>14.67</td>\n",
       "    </tr>\n",
       "    <tr>\n",
       "      <th>1</th>\n",
       "      <td>2015-12-02</td>\n",
       "      <td>208.54</td>\n",
       "      <td>15.91</td>\n",
       "    </tr>\n",
       "    <tr>\n",
       "      <th>2</th>\n",
       "      <td>2015-12-03</td>\n",
       "      <td>205.58</td>\n",
       "      <td>18.11</td>\n",
       "    </tr>\n",
       "    <tr>\n",
       "      <th>3</th>\n",
       "      <td>2015-12-04</td>\n",
       "      <td>209.66</td>\n",
       "      <td>14.81</td>\n",
       "    </tr>\n",
       "    <tr>\n",
       "      <th>4</th>\n",
       "      <td>2015-12-07</td>\n",
       "      <td>208.27</td>\n",
       "      <td>15.84</td>\n",
       "    </tr>\n",
       "    <tr>\n",
       "      <th>...</th>\n",
       "      <td>...</td>\n",
       "      <td>...</td>\n",
       "      <td>...</td>\n",
       "    </tr>\n",
       "    <tr>\n",
       "      <th>1588</th>\n",
       "      <td>2022-03-23</td>\n",
       "      <td>443.80</td>\n",
       "      <td>23.57</td>\n",
       "    </tr>\n",
       "    <tr>\n",
       "      <th>1589</th>\n",
       "      <td>2022-03-24</td>\n",
       "      <td>450.48</td>\n",
       "      <td>21.67</td>\n",
       "    </tr>\n",
       "    <tr>\n",
       "      <th>1590</th>\n",
       "      <td>2022-03-25</td>\n",
       "      <td>452.69</td>\n",
       "      <td>20.81</td>\n",
       "    </tr>\n",
       "    <tr>\n",
       "      <th>1591</th>\n",
       "      <td>2022-03-28</td>\n",
       "      <td>455.91</td>\n",
       "      <td>19.63</td>\n",
       "    </tr>\n",
       "    <tr>\n",
       "      <th>1592</th>\n",
       "      <td>2022-03-29</td>\n",
       "      <td>461.55</td>\n",
       "      <td>18.90</td>\n",
       "    </tr>\n",
       "  </tbody>\n",
       "</table>\n",
       "<p>1593 rows × 3 columns</p>\n",
       "</div>"
      ],
      "text/plain": [
       "       timestamp  close_SPY  close_VIX\n",
       "0     2015-12-01     210.68      14.67\n",
       "1     2015-12-02     208.54      15.91\n",
       "2     2015-12-03     205.58      18.11\n",
       "3     2015-12-04     209.66      14.81\n",
       "4     2015-12-07     208.27      15.84\n",
       "...          ...        ...        ...\n",
       "1588  2022-03-23     443.80      23.57\n",
       "1589  2022-03-24     450.48      21.67\n",
       "1590  2022-03-25     452.69      20.81\n",
       "1591  2022-03-28     455.91      19.63\n",
       "1592  2022-03-29     461.55      18.90\n",
       "\n",
       "[1593 rows x 3 columns]"
      ]
     },
     "execution_count": 76,
     "metadata": {},
     "output_type": "execute_result"
    }
   ],
   "source": [
    " working_data.reset_index(inplace=True)\n",
    " working_data"
   ]
  },
  {
   "cell_type": "code",
   "execution_count": 77,
   "metadata": {},
   "outputs": [],
   "source": [
    "# define a function to calculate SPY price change based on VIX value\n",
    "def backtesting_SPY_price_change_on_VIX(shreshold_1, shreshold_2, days ):\n",
    "    # get the dataframe for close_VIX is greater a shreshold\n",
    "    filtered_df =pd.DataFrame(working_data.loc[(working_data['close_VIX']>shreshold_1)& (working_data['close_VIX']<shreshold_2)]).reset_index()\n",
    "    # rename the columns of the filtered dataframe\n",
    "    filtered_df.columns =['filtered_index', 'filtered_timestamp', 'close_SPY','close_VIX']\n",
    "    # get the dataframe for the shifted date \n",
    "    shifted_df= working_data.loc[filtered_df['filtered_index'][:-days]+days]\n",
    "    shifted_df.reset_index(inplace=True)\n",
    "    # rename the columns of the shifted dataframe\n",
    "    shifted_df.columns = ['shifted_index','shifted_timestamp','shifted_close_SPY','shifted_close_VIX']\n",
    "    # combined filtered and shifted dataframes\n",
    "    combined_df = pd.concat([shifted_df, filtered_df], axis='columns', join='inner')\n",
    "    # calculate price change\n",
    "    price_change = combined_df['shifted_close_SPY']-combined_df['close_SPY']\n",
    "    tbl = price_change.describe()\n",
    "    if tbl[1] > 0:\n",
    "        print(f'Historically, when the VIX close price crosses ${shreshold_1} but below ${shreshold_2}, the SPY price increases ${round(tbl[1],2)} on average after {days} trading days.')\n",
    "    elif tbl[1]< 0:\n",
    "        print(f'Historically, when the VIX close price crosses ${shreshold_1} but below ${shreshold_2}, the SPY price decreases ${round(-tbl[1],2)} on average after {days} trading days.')\n",
    "    else:\n",
    "        print(f'Historically, when the VIX close price crosses ${shreshold_1} but below ${shreshold_2}, the SPY price has no change on average on after {days} trading days.')\n",
    "\n",
    "\n",
    "    \n",
    " "
   ]
  },
  {
   "cell_type": "markdown",
   "metadata": {},
   "source": [
    "##### When VIX close price is between min and 25% percentile value, SPY close price changes in 28, 100, 252 and 504 trading days."
   ]
  },
  {
   "cell_type": "code",
   "execution_count": 78,
   "metadata": {},
   "outputs": [
    {
     "name": "stdout",
     "output_type": "stream",
     "text": [
      "Historically, when the VIX close price crosses $9.14 but below $12.83, the SPY price increases $2.46 on average after 28 trading days.\n"
     ]
    }
   ],
   "source": [
    "backtesting_SPY_price_change_on_VIX(round(vix_tbl[3],2),round(vix_tbl[4],2),28)\n",
    "\n"
   ]
  },
  {
   "cell_type": "code",
   "execution_count": 79,
   "metadata": {},
   "outputs": [
    {
     "name": "stdout",
     "output_type": "stream",
     "text": [
      "Historically, when the VIX close price crosses $9.14 but below $12.83, the SPY price increases $12.72 on average after 100 trading days.\n"
     ]
    }
   ],
   "source": [
    "backtesting_SPY_price_change_on_VIX(round(vix_tbl[3],2),round(vix_tbl[4],2),100)"
   ]
  },
  {
   "cell_type": "code",
   "execution_count": 80,
   "metadata": {},
   "outputs": [
    {
     "name": "stdout",
     "output_type": "stream",
     "text": [
      "Historically, when the VIX close price crosses $9.14 but below $12.83, the SPY price increases $35.42 on average after 252 trading days.\n"
     ]
    }
   ],
   "source": [
    "backtesting_SPY_price_change_on_VIX(round(vix_tbl[3],2),round(vix_tbl[4],2),252)"
   ]
  },
  {
   "cell_type": "code",
   "execution_count": 81,
   "metadata": {},
   "outputs": [
    {
     "name": "stdout",
     "output_type": "stream",
     "text": [
      "Historically, when the VIX close price crosses $9.14 but below $12.83, the SPY price has no change on average on after 504 trading days.\n"
     ]
    }
   ],
   "source": [
    "backtesting_SPY_price_change_on_VIX(round(vix_tbl[3],2),round(vix_tbl[4],2),504)"
   ]
  },
  {
   "cell_type": "markdown",
   "metadata": {},
   "source": [
    "##### When VIX close price is between 25% and 50% percentile value, SPY close price changes in 28, 100, 252, and 504 trading days."
   ]
  },
  {
   "cell_type": "code",
   "execution_count": 82,
   "metadata": {},
   "outputs": [
    {
     "name": "stdout",
     "output_type": "stream",
     "text": [
      "Historically, when the VIX close price crosses $12.83 but below $16.16, the SPY price increases $0.79 on average after 28 trading days.\n"
     ]
    }
   ],
   "source": [
    "backtesting_SPY_price_change_on_VIX(round(vix_tbl[4],2),round(vix_tbl[5],2),28)"
   ]
  },
  {
   "cell_type": "code",
   "execution_count": 83,
   "metadata": {},
   "outputs": [
    {
     "name": "stdout",
     "output_type": "stream",
     "text": [
      "Historically, when the VIX close price crosses $12.83 but below $16.16, the SPY price increases $9.23 on average after 100 trading days.\n"
     ]
    }
   ],
   "source": [
    "backtesting_SPY_price_change_on_VIX(round(vix_tbl[4],2),round(vix_tbl[5],2),100)"
   ]
  },
  {
   "cell_type": "code",
   "execution_count": 84,
   "metadata": {},
   "outputs": [
    {
     "name": "stdout",
     "output_type": "stream",
     "text": [
      "Historically, when the VIX close price crosses $12.83 but below $16.16, the SPY price increases $32.91 on average after 252 trading days.\n"
     ]
    }
   ],
   "source": [
    "backtesting_SPY_price_change_on_VIX(round(vix_tbl[4],2),round(vix_tbl[5],2),252)"
   ]
  },
  {
   "cell_type": "code",
   "execution_count": 85,
   "metadata": {},
   "outputs": [
    {
     "name": "stdout",
     "output_type": "stream",
     "text": [
      "Historically, when the VIX close price crosses $12.83 but below $16.16, the SPY price has no change on average on after 504 trading days.\n"
     ]
    }
   ],
   "source": [
    "backtesting_SPY_price_change_on_VIX(round(vix_tbl[4],2),round(vix_tbl[5],2),504)"
   ]
  },
  {
   "cell_type": "markdown",
   "metadata": {},
   "source": [
    "##### When VIX close price is between 50% and 75% percentile value, SPY close price changes in 28, 100, 252, and 504 trading days."
   ]
  },
  {
   "cell_type": "code",
   "execution_count": 86,
   "metadata": {},
   "outputs": [
    {
     "name": "stdout",
     "output_type": "stream",
     "text": [
      "Historically, when the VIX close price crosses $16.16 but below $21.38, the SPY price increases $4.64 on average after 28 trading days.\n"
     ]
    }
   ],
   "source": [
    "backtesting_SPY_price_change_on_VIX(round(vix_tbl[5],2),round(vix_tbl[6],2),28)"
   ]
  },
  {
   "cell_type": "code",
   "execution_count": 87,
   "metadata": {},
   "outputs": [
    {
     "name": "stdout",
     "output_type": "stream",
     "text": [
      "Historically, when the VIX close price crosses $16.16 but below $21.38, the SPY price increases $22.25 on average after 100 trading days.\n"
     ]
    }
   ],
   "source": [
    "backtesting_SPY_price_change_on_VIX(round(vix_tbl[5],2),round(vix_tbl[6],2),100)"
   ]
  },
  {
   "cell_type": "code",
   "execution_count": 88,
   "metadata": {},
   "outputs": [
    {
     "name": "stdout",
     "output_type": "stream",
     "text": [
      "Historically, when the VIX close price crosses $16.16 but below $21.38, the SPY price increases $31.29 on average after 252 trading days.\n"
     ]
    }
   ],
   "source": [
    "backtesting_SPY_price_change_on_VIX(round(vix_tbl[5],2),round(vix_tbl[6],2),252)"
   ]
  },
  {
   "cell_type": "code",
   "execution_count": 89,
   "metadata": {},
   "outputs": [
    {
     "name": "stdout",
     "output_type": "stream",
     "text": [
      "Historically, when the VIX close price crosses $16.16 but below $21.38, the SPY price has no change on average on after 504 trading days.\n"
     ]
    }
   ],
   "source": [
    "backtesting_SPY_price_change_on_VIX(round(vix_tbl[5],2),round(vix_tbl[6],2),504)"
   ]
  },
  {
   "cell_type": "markdown",
   "metadata": {},
   "source": [
    "##### When VIX close price is between 75% percentile and max value, SPY close price changes in 28, 100, 252, and 504 trading days."
   ]
  },
  {
   "cell_type": "code",
   "execution_count": 90,
   "metadata": {},
   "outputs": [
    {
     "name": "stdout",
     "output_type": "stream",
     "text": [
      "Historically, when the VIX close price crosses $21.38 but below $82.69, the SPY price increases $11.4 on average after 28 trading days.\n"
     ]
    }
   ],
   "source": [
    "backtesting_SPY_price_change_on_VIX(round(vix_tbl[6],2),round(vix_tbl[7],2),28)"
   ]
  },
  {
   "cell_type": "code",
   "execution_count": 91,
   "metadata": {},
   "outputs": [
    {
     "name": "stdout",
     "output_type": "stream",
     "text": [
      "Historically, when the VIX close price crosses $21.38 but below $82.69, the SPY price increases $41.64 on average after 100 trading days.\n"
     ]
    }
   ],
   "source": [
    "backtesting_SPY_price_change_on_VIX(round(vix_tbl[6],2),round(vix_tbl[7],2),100)"
   ]
  },
  {
   "cell_type": "code",
   "execution_count": 92,
   "metadata": {},
   "outputs": [
    {
     "name": "stdout",
     "output_type": "stream",
     "text": [
      "Historically, when the VIX close price crosses $21.38 but below $82.69, the SPY price increases $80.4 on average after 252 trading days.\n"
     ]
    }
   ],
   "source": [
    "backtesting_SPY_price_change_on_VIX(round(vix_tbl[6],2),round(vix_tbl[7],2),252)"
   ]
  },
  {
   "cell_type": "code",
   "execution_count": 93,
   "metadata": {},
   "outputs": [
    {
     "name": "stdout",
     "output_type": "stream",
     "text": [
      "Historically, when the VIX close price crosses $21.38 but below $82.69, the SPY price has no change on average on after 504 trading days.\n"
     ]
    }
   ],
   "source": [
    "backtesting_SPY_price_change_on_VIX(round(vix_tbl[6],2),round(vix_tbl[7],2),504)"
   ]
  },
  {
   "cell_type": "code",
   "execution_count": null,
   "metadata": {},
   "outputs": [],
   "source": []
  }
 ],
 "metadata": {
  "interpreter": {
   "hash": "a1a11f851aa69a5484d88ac90c18251763fd71bc115f2a3b6897124b7de586bd"
  },
  "kernelspec": {
   "display_name": "Python 3.7.11",
   "language": "python",
   "name": "python3"
  },
  "language_info": {
   "codemirror_mode": {
    "name": "ipython",
    "version": 3
   },
   "file_extension": ".py",
   "mimetype": "text/x-python",
   "name": "python",
   "nbconvert_exporter": "python",
   "pygments_lexer": "ipython3",
   "version": "3.7.11"
  },
  "orig_nbformat": 4
 },
 "nbformat": 4,
 "nbformat_minor": 2
}
